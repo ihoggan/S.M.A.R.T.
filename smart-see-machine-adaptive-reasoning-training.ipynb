{
 "cells": [
  {
   "cell_type": "markdown",
   "id": "dd498593",
   "metadata": {
    "papermill": {
     "duration": 0.005888,
     "end_time": "2025-07-07T09:41:49.297418",
     "exception": false,
     "start_time": "2025-07-07T09:41:49.291530",
     "status": "completed"
    },
    "tags": []
   },
   "source": [
    "# 🧠 Neural Network Learning Playground: Watch AI Discover $200/sqft + $50k!"
   ]
  },
  {
   "cell_type": "markdown",
   "id": "719010a5",
   "metadata": {
    "papermill": {
     "duration": 0.004323,
     "end_time": "2025-07-07T09:41:49.307215",
     "exception": false,
     "start_time": "2025-07-07T09:41:49.302892",
     "status": "completed"
    },
    "tags": []
   },
   "source": [
    "## 🎯 **Ever wondered how neural networks actually learn? Let's watch one figure it out!**\n",
    "\n",
    "**Welcome to the most interactive neural network tutorial you'll ever experience!** Instead of just reading about gradient descent, you're about to **watch it happen in real-time**. No more \"trust me, the math works\" - you'll see every parameter adjustment, every learning step, and every breakthrough moment.\n",
    "\n",
    "---\n",
    "\n",
    "## 🏠 **The Challenge: Can AI Learn House Prices?**\n",
    "\n",
    "Imagine you're a neural network with a simple job: **predict house prices**. You know two things matter:\n",
    "- **Square footage** of the house\n",
    "- **Base neighborhood price**\n",
    "\n",
    "But here's the catch - **you start completely clueless!** Your initial guesses are random. Through trial and error (gradient descent), you must discover that the true relationship is:\n",
    "\n",
    "> **🎯 House Price = $200/sqft × Square Feet + $50,000 base price**\n",
    "\n",
    "**Will you figure it out? Let's find out together!**\n",
    "\n",
    "---\n",
    "\n",
    "## 🎮 **What Makes This Special?**\n",
    "\n",
    "### ✅ **Interactive Learning**\n",
    "- Adjust learning rates with sliders\n",
    "- Watch parameters evolve in real-time\n",
    "- See what happens when you \"break\" the AI\n",
    "\n",
    "### ✅ **Visual Understanding**  \n",
    "- Every calculation shown graphically\n",
    "- Parameter convergence visualized\n",
    "- Error reduction tracked live\n",
    "\n",
    "### ✅ **Learn by Experimenting**\n",
    "- Try different learning rates\n",
    "- Watch AI \"explode\" with bad settings\n",
    "- Understand why learning rates matter\n",
    "\n",
    "### ✅ **No Math Prerequisites**\n",
    "- Complex concepts explained simply\n",
    "- Visual intuition before equations\n",
    "- Perfect for beginners AND experts\n",
    "\n",
    "---\n",
    "\n",
    "## 📚 **What You'll Learn**\n",
    "\n",
    "By the end of this notebook, you'll have **rock-solid intuition** for:\n",
    "\n",
    "🧠 **How neural networks adjust their \"knobs\" (parameters)**  \n",
    "⚡ **Why learning rate selection is critical**  \n",
    "📈 **How gradient descent finds optimal solutions**  \n",
    "💥 **What happens when learning goes wrong**  \n",
    "🎯 **The connection between math and real-world AI**\n",
    "\n",
    "---\n",
    "\n",
    "## 🎭 **Perfect For:**\n",
    "\n",
    "- **🎓 Students** learning machine learning\n",
    "- **👨‍🏫 Educators** teaching neural networks  \n",
    "- **💼 Professionals** explaining AI to stakeholders\n",
    "- **🤔 Anyone curious** about how AI really works\n",
    "- **🔬 Researchers** wanting visual intuition tools\n",
    "\n",
    "---\n",
    "\n",
    "## 🚀 **How to Use This Notebook**\n",
    "\n",
    "### **🏃‍♂️ Quick Start (15 minutes):**\n",
    "1. Run cells 1-6 to set up the neural network\n",
    "2. Jump to Cell 9 for interactive training\n",
    "3. Try different learning rates and watch the magic!\n",
    "\n",
    "### **🧑‍🎓 Deep Dive (45 minutes):**\n",
    "1. Run all cells sequentially\n",
    "2. Read explanations between experiments\n",
    "3. Try the mathematical analysis sections\n",
    "4. Experiment with your own modifications\n",
    "\n",
    "### **👨‍🏫 Teaching Mode:**\n",
    "- Use Cell 8 to demonstrate learning rate effects\n",
    "- Cell 9 for interactive student engagement\n",
    "- Cell 11 for advanced mathematical discussions\n",
    "\n",
    "---\n",
    "\n",
    "## ⚠️ **Fair Warning: This Gets Addictive!**\n",
    "\n",
    "**You'll find yourself saying:**\n",
    "- *\"Just one more learning rate experiment...\"*\n",
    "- *\"Wait, let me see what happens if I...\"*\n",
    "- *\"I finally GET why neural networks work!\"*\n",
    "\n",
    "**That's exactly the point!** 🎯\n",
    "\n",
    "---\n",
    "\n",
    "## 🏆 **Why This Approach Works**\n",
    "\n",
    "Traditional ML education: **\"Here's the math, trust that it works\"**  \n",
    "**Our approach: \"Let's watch the math work its magic!\"**\n",
    "\n",
    "When you can **see** gradient descent adjusting parameters, when you can **watch** the AI get smarter, when you can **control** the learning process - that's when deep understanding happens.\n",
    "\n",
    "---\n",
    "\n",
    "## 🎬 **Ready to Watch AI Learn?**\n",
    "\n",
    "**Let's start with the basics and build up to the interactive experience.** By Cell 9, you'll be controlling a neural network like a master puppeteer!\n",
    "\n",
    "**🚀 Scroll down and let's begin this journey from confusion to clarity!**\n",
    "\n",
    "---\n",
    "\n",
    "*💡 **Pro Tip:** Don't just run the cells - play with the parameters, break things, see what happens. The best learning comes from curiosity and experimentation!*"
   ]
  },
  {
   "cell_type": "markdown",
   "id": "ddaf6458",
   "metadata": {
    "papermill": {
     "duration": 0.004237,
     "end_time": "2025-07-07T09:41:49.316130",
     "exception": false,
     "start_time": "2025-07-07T09:41:49.311893",
     "status": "completed"
    },
    "tags": []
   },
   "source": [
    "## Cell 1: Title & Setup"
   ]
  },
  {
   "cell_type": "code",
   "execution_count": 1,
   "id": "f39cb980",
   "metadata": {
    "execution": {
     "iopub.execute_input": "2025-07-07T09:41:49.326424Z",
     "iopub.status.busy": "2025-07-07T09:41:49.326128Z",
     "iopub.status.idle": "2025-07-07T09:41:49.334422Z",
     "shell.execute_reply": "2025-07-07T09:41:49.333615Z"
    },
    "papermill": {
     "duration": 0.015078,
     "end_time": "2025-07-07T09:41:49.335715",
     "exception": false,
     "start_time": "2025-07-07T09:41:49.320637",
     "status": "completed"
    },
    "tags": []
   },
   "outputs": [
    {
     "name": "stdout",
     "output_type": "stream",
     "text": [
      "🎯 Welcome to the Neural Network Learning Playground!\n",
      "============================================================\n",
      "In this notebook, you'll watch a neural network learn to predict house prices.\n",
      "You'll see how gradient descent adjusts parameters in real-time!\n",
      "\n",
      "🏠 The Challenge: Learn that price = $200/sqft + $50,000 base\n",
      "🎮 Try different learning rates and watch what happens!\n"
     ]
    }
   ],
   "source": [
    "# 🧠 Neural Network Learning Playground - Watch AI Learn in Real-Time!\n",
    "# Interactive demonstration of how neural networks learn through gradient descent\n",
    "\n",
    "print(\"🎯 Welcome to the Neural Network Learning Playground!\")\n",
    "print(\"=\" * 60)\n",
    "print(\"In this notebook, you'll watch a neural network learn to predict house prices.\")\n",
    "print(\"You'll see how gradient descent adjusts parameters in real-time!\")\n",
    "print(\"\\n🏠 The Challenge: Learn that price = $200/sqft + $50,000 base\")\n",
    "print(\"🎮 Try different learning rates and watch what happens!\")"
   ]
  },
  {
   "cell_type": "markdown",
   "id": "0c4838c9",
   "metadata": {
    "papermill": {
     "duration": 0.004635,
     "end_time": "2025-07-07T09:41:49.345241",
     "exception": false,
     "start_time": "2025-07-07T09:41:49.340606",
     "status": "completed"
    },
    "tags": []
   },
   "source": [
    "## Cell 2: Import Libraries"
   ]
  },
  {
   "cell_type": "code",
   "execution_count": 2,
   "id": "ac3e8dee",
   "metadata": {
    "execution": {
     "iopub.execute_input": "2025-07-07T09:41:49.355955Z",
     "iopub.status.busy": "2025-07-07T09:41:49.355603Z",
     "iopub.status.idle": "2025-07-07T09:41:51.354974Z",
     "shell.execute_reply": "2025-07-07T09:41:51.354053Z"
    },
    "papermill": {
     "duration": 2.006466,
     "end_time": "2025-07-07T09:41:51.356487",
     "exception": false,
     "start_time": "2025-07-07T09:41:49.350021",
     "status": "completed"
    },
    "tags": []
   },
   "outputs": [
    {
     "name": "stdout",
     "output_type": "stream",
     "text": [
      "✅ All libraries imported successfully!\n"
     ]
    }
   ],
   "source": [
    "import numpy as np\n",
    "import pandas as pd\n",
    "import matplotlib.pyplot as plt\n",
    "from matplotlib.animation import FuncAnimation\n",
    "from IPython.display import display, HTML, clear_output\n",
    "import ipywidgets as widgets\n",
    "from ipywidgets import interact, interactive, fixed, interact_manual\n",
    "import time\n",
    "import warnings\n",
    "warnings.filterwarnings('ignore')\n",
    "\n",
    "# Set up plotting\n",
    "plt.style.use('default')\n",
    "%matplotlib inline\n",
    "\n",
    "print(\"✅ All libraries imported successfully!\")"
   ]
  },
  {
   "cell_type": "markdown",
   "id": "748b7d34",
   "metadata": {
    "papermill": {
     "duration": 0.004706,
     "end_time": "2025-07-07T09:41:51.366262",
     "exception": false,
     "start_time": "2025-07-07T09:41:51.361556",
     "status": "completed"
    },
    "tags": []
   },
   "source": [
    "## Cell 3: Neural Network Class - Part 1 (Core Functions)"
   ]
  },
  {
   "cell_type": "code",
   "execution_count": 3,
   "id": "c119e917",
   "metadata": {
    "execution": {
     "iopub.execute_input": "2025-07-07T09:41:51.377357Z",
     "iopub.status.busy": "2025-07-07T09:41:51.376963Z",
     "iopub.status.idle": "2025-07-07T09:41:51.385984Z",
     "shell.execute_reply": "2025-07-07T09:41:51.384996Z"
    },
    "papermill": {
     "duration": 0.016091,
     "end_time": "2025-07-07T09:41:51.387330",
     "exception": false,
     "start_time": "2025-07-07T09:41:51.371239",
     "status": "completed"
    },
    "tags": []
   },
   "outputs": [
    {
     "name": "stdout",
     "output_type": "stream",
     "text": [
      "==================================================\n",
      "✅ CELL 3 COMPLETE - Neural Network Class Defined!\n",
      "📋 What you just created:\n",
      "   • NeuralLearningDemo class with 5 house training examples\n",
      "   • Random parameter initialization\n",
      "   • Reset functionality\n",
      "🎯 Next: Run Cell 4 to add prediction and error methods\n",
      "==================================================\n"
     ]
    }
   ],
   "source": [
    "class NeuralLearningDemo:\n",
    "    def __init__(self):\n",
    "        # House data - same as React version\n",
    "        self.house_data = pd.DataFrame({\n",
    "            'square_feet': [1000, 1500, 2000, 2500, 3000],\n",
    "            'actual_price': [250000, 350000, 450000, 550000, 650000]\n",
    "        })\n",
    "        \n",
    "        # True relationship parameters\n",
    "        self.TRUE_PRICE_PER_SQFT = 200\n",
    "        self.TRUE_BASE_PRICE = 50000\n",
    "        \n",
    "        # Neural network parameters\n",
    "        self.reset_neuron()\n",
    "        \n",
    "        # Training history\n",
    "        self.training_history = []\n",
    "        self.is_training = False\n",
    "        \n",
    "        print(\"🧠 Neural Network initialized!\")\n",
    "        print(f\"📊 Training on {len(self.house_data)} houses\")\n",
    "        \n",
    "    def reset_neuron(self):\n",
    "        \"\"\"Reset neuron parameters to random values\"\"\"\n",
    "        self.price_per_sqft = np.random.uniform(150, 250)\n",
    "        self.base_price = np.random.uniform(25000, 75000)\n",
    "        self.training_history = []\n",
    "        print(f\"🔄 Neuron reset! New parameters:\")\n",
    "        print(f\"   Price per sqft: ${self.price_per_sqft:.2f}\")\n",
    "        print(f\"   Base price: ${self.base_price:.2f}\")\n",
    "\n",
    "# Cell completion confirmation\n",
    "print(\"=\" * 50)\n",
    "print(\"✅ CELL 3 COMPLETE - Neural Network Class Defined!\")\n",
    "print(\"📋 What you just created:\")\n",
    "print(\"   • NeuralLearningDemo class with 5 house training examples\")\n",
    "print(\"   • Random parameter initialization\")\n",
    "print(\"   • Reset functionality\")\n",
    "print(\"🎯 Next: Run Cell 4 to add prediction and error methods\")\n",
    "print(\"=\" * 50)"
   ]
  },
  {
   "cell_type": "markdown",
   "id": "b58f4361",
   "metadata": {
    "papermill": {
     "duration": 0.00461,
     "end_time": "2025-07-07T09:41:51.397104",
     "exception": false,
     "start_time": "2025-07-07T09:41:51.392494",
     "status": "completed"
    },
    "tags": []
   },
   "source": [
    "## Cell 4: Neural Network Class - Part 2 (Prediction & Error)"
   ]
  },
  {
   "cell_type": "code",
   "execution_count": 4,
   "id": "8b387f92",
   "metadata": {
    "execution": {
     "iopub.execute_input": "2025-07-07T09:41:51.407867Z",
     "iopub.status.busy": "2025-07-07T09:41:51.407518Z",
     "iopub.status.idle": "2025-07-07T09:41:51.415422Z",
     "shell.execute_reply": "2025-07-07T09:41:51.414435Z"
    },
    "papermill": {
     "duration": 0.015016,
     "end_time": "2025-07-07T09:41:51.416839",
     "exception": false,
     "start_time": "2025-07-07T09:41:51.401823",
     "status": "completed"
    },
    "tags": []
   },
   "outputs": [
    {
     "name": "stdout",
     "output_type": "stream",
     "text": [
      "✅ Prediction and error calculation methods added!\n"
     ]
    }
   ],
   "source": [
    "# Add prediction and error methods to our NeuralLearningDemo class\n",
    "\n",
    "def predict_price(self, sqft, params=None):\n",
    "    \"\"\"Predict house price using current neuron parameters\"\"\"\n",
    "    if params is None:\n",
    "        return self.price_per_sqft * sqft + self.base_price\n",
    "    else:\n",
    "        return params[0] * sqft + params[1]\n",
    "\n",
    "def calculate_error(self, params=None):\n",
    "    \"\"\"Calculate RMSE of current predictions\"\"\"\n",
    "    if params is None:\n",
    "        predictions = self.house_data['square_feet'].apply(self.predict_price)\n",
    "    else:\n",
    "        predictions = self.house_data['square_feet'].apply(\n",
    "            lambda x: self.predict_price(x, params)\n",
    "        )\n",
    "    \n",
    "    errors = self.house_data['actual_price'] - predictions\n",
    "    return np.sqrt(np.mean(errors**2))\n",
    "\n",
    "def calculate_accuracy(self):\n",
    "    \"\"\"Calculate accuracy percentage\"\"\"\n",
    "    error = self.calculate_error()\n",
    "    return max(0, 100 - (error / 100000) * 100)\n",
    "\n",
    "# Add these methods to our class\n",
    "NeuralLearningDemo.predict_price = predict_price\n",
    "NeuralLearningDemo.calculate_error = calculate_error  \n",
    "NeuralLearningDemo.calculate_accuracy = calculate_accuracy\n",
    "\n",
    "print(\"✅ Prediction and error calculation methods added!\")"
   ]
  },
  {
   "cell_type": "markdown",
   "id": "5182c971",
   "metadata": {
    "papermill": {
     "duration": 0.004859,
     "end_time": "2025-07-07T09:41:51.426592",
     "exception": false,
     "start_time": "2025-07-07T09:41:51.421733",
     "status": "completed"
    },
    "tags": []
   },
   "source": [
    "## Cell 5: Neural Network Class - Part 3 (Training Logic)"
   ]
  },
  {
   "cell_type": "code",
   "execution_count": 5,
   "id": "9093016a",
   "metadata": {
    "execution": {
     "iopub.execute_input": "2025-07-07T09:41:51.437639Z",
     "iopub.status.busy": "2025-07-07T09:41:51.437315Z",
     "iopub.status.idle": "2025-07-07T09:41:51.446416Z",
     "shell.execute_reply": "2025-07-07T09:41:51.445423Z"
    },
    "papermill": {
     "duration": 0.01644,
     "end_time": "2025-07-07T09:41:51.447800",
     "exception": false,
     "start_time": "2025-07-07T09:41:51.431360",
     "status": "completed"
    },
    "tags": []
   },
   "outputs": [
    {
     "name": "stdout",
     "output_type": "stream",
     "text": [
      "============================================================\n",
      "✅ CELL 5 COMPLETE - Training Logic Added!\n",
      "🧠 Your neural network can now:\n",
      "   • Learn through gradient descent optimization\n",
      "   • Calculate gradients for parameter updates\n",
      "   • Detect parameter explosions (safety feature)\n",
      "   • Update weights based on prediction errors\n",
      "   • Apply safety bounds to prevent extreme values\n",
      "💡 Key concepts implemented:\n",
      "   • Gradient calculation: error × input\n",
      "   • Parameter updates: param += learning_rate × gradient\n",
      "   • Explosion detection: monitoring gradient magnitude\n",
      "🎯 Next: Run Cell 6 to initialize demo and see training data\n",
      "============================================================\n"
     ]
    }
   ],
   "source": [
    "def train_one_epoch(self, learning_rate):\n",
    "    \"\"\"Train for one epoch using gradient descent\"\"\"\n",
    "    total_price_gradient = 0\n",
    "    total_bias_gradient = 0\n",
    "    \n",
    "    # Calculate gradients\n",
    "    for _, house in self.house_data.iterrows():\n",
    "        prediction = self.predict_price(house['square_feet'])\n",
    "        error = house['actual_price'] - prediction\n",
    "        \n",
    "        total_price_gradient += error * house['square_feet']\n",
    "        total_bias_gradient += error\n",
    "    \n",
    "    # Update parameters\n",
    "    avg_price_gradient = total_price_gradient / len(self.house_data)\n",
    "    avg_bias_gradient = total_bias_gradient / len(self.house_data)\n",
    "    \n",
    "    # Check for explosion\n",
    "    gradient_magnitude = abs(avg_price_gradient) + abs(avg_bias_gradient)\n",
    "    is_exploding = gradient_magnitude > 100000 or abs(self.price_per_sqft) > 1000\n",
    "    \n",
    "    self.price_per_sqft += learning_rate * avg_price_gradient\n",
    "    self.base_price += learning_rate * avg_bias_gradient\n",
    "    \n",
    "    # Safety bounds for extreme cases\n",
    "    self.price_per_sqft = np.clip(self.price_per_sqft, -10000, 10000)\n",
    "    self.base_price = np.clip(self.base_price, -10000000, 10000000)\n",
    "    \n",
    "    return avg_price_gradient, avg_bias_gradient, is_exploding\n",
    "\n",
    "# Add method to class\n",
    "NeuralLearningDemo.train_one_epoch = train_one_epoch\n",
    "\n",
    "# Cell completion confirmation\n",
    "print(\"=\" * 60)\n",
    "print(\"✅ CELL 5 COMPLETE - Training Logic Added!\")\n",
    "print(\"🧠 Your neural network can now:\")\n",
    "print(\"   • Learn through gradient descent optimization\")\n",
    "print(\"   • Calculate gradients for parameter updates\")\n",
    "print(\"   • Detect parameter explosions (safety feature)\")\n",
    "print(\"   • Update weights based on prediction errors\")\n",
    "print(\"   • Apply safety bounds to prevent extreme values\")\n",
    "print(\"💡 Key concepts implemented:\")\n",
    "print(\"   • Gradient calculation: error × input\")\n",
    "print(\"   • Parameter updates: param += learning_rate × gradient\")\n",
    "print(\"   • Explosion detection: monitoring gradient magnitude\")\n",
    "print(\"🎯 Next: Run Cell 6 to initialize demo and see training data\")\n",
    "print(\"=\" * 60)"
   ]
  },
  {
   "cell_type": "markdown",
   "id": "b109e255",
   "metadata": {
    "papermill": {
     "duration": 0.00459,
     "end_time": "2025-07-07T09:41:51.457604",
     "exception": false,
     "start_time": "2025-07-07T09:41:51.453014",
     "status": "completed"
    },
    "tags": []
   },
   "source": [
    "## Cell 6: Initialize Demo & Show Training Data"
   ]
  },
  {
   "cell_type": "code",
   "execution_count": 6,
   "id": "e79b3880",
   "metadata": {
    "execution": {
     "iopub.execute_input": "2025-07-07T09:41:51.469114Z",
     "iopub.status.busy": "2025-07-07T09:41:51.468158Z",
     "iopub.status.idle": "2025-07-07T09:41:51.489664Z",
     "shell.execute_reply": "2025-07-07T09:41:51.488754Z"
    },
    "papermill": {
     "duration": 0.028941,
     "end_time": "2025-07-07T09:41:51.491271",
     "exception": false,
     "start_time": "2025-07-07T09:41:51.462330",
     "status": "completed"
    },
    "tags": []
   },
   "outputs": [
    {
     "name": "stdout",
     "output_type": "stream",
     "text": [
      "🔄 Neuron reset! New parameters:\n",
      "   Price per sqft: $222.44\n",
      "   Base price: $51103.37\n",
      "🧠 Neural Network initialized!\n",
      "📊 Training on 5 houses\n",
      "\n",
      "📊 Training Data:\n",
      "========================================\n",
      "🏠 1000 sqft → $250,000 (predicting: $273,539, error: $23,539)\n",
      "🏠 1500 sqft → $350,000 (predicting: $384,756, error: $34,756)\n",
      "🏠 2000 sqft → $450,000 (predicting: $495,974, error: $45,974)\n",
      "🏠 2500 sqft → $550,000 (predicting: $607,192, error: $57,192)\n",
      "🏠 3000 sqft → $650,000 (predicting: $718,410, error: $68,410)\n",
      "\n",
      "🎯 Target relationship: price = $200 × sqft + $50,000\n",
      "📈 Starting error: $48,634\n",
      "📊 Starting accuracy: 51.4%\n",
      "\n",
      "🎲 Random starting parameters:\n",
      "   Price/sqft: $222.44 (target: $200, error: $22.44)\n",
      "   Base price: $51103.37 (target: $50,000, error: $1103.37)\n",
      "\n",
      "============================================================\n",
      "✅ CELL 6 COMPLETE - Demo Initialized & Data Displayed!\n",
      "🎮 Your neural network playground is ready!\n",
      "📋 What you can see:\n",
      "   • 5 houses with actual vs predicted prices\n",
      "   • Current prediction errors for each house\n",
      "   • Random starting parameters vs target values\n",
      "   • Overall accuracy metrics\n",
      "🎯 Next steps - Choose your adventure:\n",
      "   • Cell 7: Quick training function (simple demo)\n",
      "   • Cell 8: Learning rate comparison (see explosions!)\n",
      "   • Cell 9: Interactive widget training (most fun!) 🎮\n",
      "💡 Tip: Try Cell 9 for the full interactive experience!\n",
      "============================================================\n"
     ]
    }
   ],
   "source": [
    "# Initialize the demo\n",
    "demo = NeuralLearningDemo()\n",
    "\n",
    "print(\"\\n📊 Training Data:\")\n",
    "print(\"=\" * 40)\n",
    "for _, house in demo.house_data.iterrows():\n",
    "    sqft = house['square_feet']\n",
    "    price = house['actual_price']\n",
    "    current_pred = demo.predict_price(sqft)\n",
    "    error = abs(price - current_pred)\n",
    "    print(f\"🏠 {sqft:4d} sqft → ${price:,} (predicting: ${current_pred:,.0f}, error: ${error:,.0f})\")\n",
    "\n",
    "print(f\"\\n🎯 Target relationship: price = $200 × sqft + $50,000\")\n",
    "print(f\"📈 Starting error: ${demo.calculate_error():,.0f}\")\n",
    "print(f\"📊 Starting accuracy: {demo.calculate_accuracy():.1f}%\")\n",
    "\n",
    "# Show current parameters vs target\n",
    "price_error = abs(demo.price_per_sqft - demo.TRUE_PRICE_PER_SQFT)\n",
    "base_error = abs(demo.base_price - demo.TRUE_BASE_PRICE)\n",
    "\n",
    "print(f\"\\n🎲 Random starting parameters:\")\n",
    "print(f\"   Price/sqft: ${demo.price_per_sqft:.2f} (target: $200, error: ${price_error:.2f})\")\n",
    "print(f\"   Base price: ${demo.base_price:.2f} (target: $50,000, error: ${base_error:.2f})\")\n",
    "\n",
    "# Cell completion confirmation\n",
    "print(\"\\n\" + \"=\" * 60)\n",
    "print(\"✅ CELL 6 COMPLETE - Demo Initialized & Data Displayed!\")\n",
    "print(\"🎮 Your neural network playground is ready!\")\n",
    "print(\"📋 What you can see:\")\n",
    "print(\"   • 5 houses with actual vs predicted prices\")\n",
    "print(\"   • Current prediction errors for each house\")\n",
    "print(\"   • Random starting parameters vs target values\")\n",
    "print(\"   • Overall accuracy metrics\")\n",
    "print(\"🎯 Next steps - Choose your adventure:\")\n",
    "print(\"   • Cell 7: Quick training function (simple demo)\")\n",
    "print(\"   • Cell 8: Learning rate comparison (see explosions!)\")\n",
    "print(\"   • Cell 9: Interactive widget training (most fun!) 🎮\")\n",
    "print(\"💡 Tip: Try Cell 9 for the full interactive experience!\")\n",
    "print(\"=\" * 60)"
   ]
  },
  {
   "cell_type": "markdown",
   "id": "edbc47b6",
   "metadata": {
    "papermill": {
     "duration": 0.005524,
     "end_time": "2025-07-07T09:41:51.503412",
     "exception": false,
     "start_time": "2025-07-07T09:41:51.497888",
     "status": "completed"
    },
    "tags": []
   },
   "source": [
    "## Cell 7: Quick Training Function"
   ]
  },
  {
   "cell_type": "code",
   "execution_count": 7,
   "id": "0fe4bd1b",
   "metadata": {
    "execution": {
     "iopub.execute_input": "2025-07-07T09:41:51.514629Z",
     "iopub.status.busy": "2025-07-07T09:41:51.514298Z",
     "iopub.status.idle": "2025-07-07T09:41:51.566800Z",
     "shell.execute_reply": "2025-07-07T09:41:51.565872Z"
    },
    "papermill": {
     "duration": 0.059775,
     "end_time": "2025-07-07T09:41:51.568234",
     "exception": false,
     "start_time": "2025-07-07T09:41:51.508459",
     "status": "completed"
    },
    "tags": []
   },
   "outputs": [
    {
     "name": "stdout",
     "output_type": "stream",
     "text": [
      "🧪 Testing with SAFE learning rate:\n",
      "🔄 Neuron reset! New parameters:\n",
      "   Price per sqft: $247.51\n",
      "   Base price: $67255.33\n",
      "🚀 Training for 50 epochs with learning rate 1e-07\n",
      "============================================================\n",
      "Epoch   0: Accuracy= 35.4% | Price/sqft=$   223 | 💥 EXPLODING!\n",
      "Epoch  20: Accuracy= 94.2% | Price/sqft=$   192 | ✅ Stable\n",
      "Epoch  40: Accuracy= 94.2% | Price/sqft=$   192 | ✅ Stable\n",
      "Epoch  49: Accuracy= 94.2% | Price/sqft=$   192 | ✅ Stable\n",
      "\n",
      "🏁 Training Complete!\n",
      "📈 Final accuracy: 94.2%\n",
      "💰 Learned price per sqft: $192.33 (target: $200)\n",
      "🏠 Learned base price: $67255.29 (target: $50,000)\n",
      "💥 Explosions detected: 14 times\n"
     ]
    }
   ],
   "source": [
    "def quick_train(epochs=100, learning_rate=0.0000001, show_progress=True):\n",
    "    \"\"\"Quick training function with progress tracking\"\"\"\n",
    "    demo.reset_neuron()\n",
    "    \n",
    "    print(f\"🚀 Training for {epochs} epochs with learning rate {learning_rate}\")\n",
    "    print(\"=\" * 60)\n",
    "    \n",
    "    history = []\n",
    "    explosion_count = 0\n",
    "    \n",
    "    for epoch in range(epochs):\n",
    "        # Train one epoch\n",
    "        price_grad, bias_grad, exploded = demo.train_one_epoch(learning_rate)\n",
    "        \n",
    "        if exploded:\n",
    "            explosion_count += 1\n",
    "        \n",
    "        # Record history\n",
    "        error = demo.calculate_error()\n",
    "        accuracy = demo.calculate_accuracy()\n",
    "        \n",
    "        history.append({\n",
    "            'epoch': epoch,\n",
    "            'error': error,\n",
    "            'accuracy': accuracy,\n",
    "            'price_per_sqft': demo.price_per_sqft,\n",
    "            'base_price': demo.base_price,\n",
    "            'exploded': exploded\n",
    "        })\n",
    "        \n",
    "        # Show progress every 20 epochs\n",
    "        if show_progress and (epoch % 20 == 0 or epoch == epochs - 1):\n",
    "            status = \"💥 EXPLODING!\" if exploded else \"✅ Stable\"\n",
    "            print(f\"Epoch {epoch:3d}: Accuracy={accuracy:5.1f}% | Price/sqft=${demo.price_per_sqft:6.0f} | {status}\")\n",
    "    \n",
    "    print(f\"\\n🏁 Training Complete!\")\n",
    "    print(f\"📈 Final accuracy: {history[-1]['accuracy']:.1f}%\")\n",
    "    print(f\"💰 Learned price per sqft: ${demo.price_per_sqft:.2f} (target: $200)\")\n",
    "    print(f\"🏠 Learned base price: ${demo.base_price:.2f} (target: $50,000)\")\n",
    "    \n",
    "    if explosion_count > 0:\n",
    "        print(f\"💥 Explosions detected: {explosion_count} times\")\n",
    "    \n",
    "    return history\n",
    "\n",
    "# Test with safe learning rate\n",
    "print(\"🧪 Testing with SAFE learning rate:\")\n",
    "history_safe = quick_train(epochs=50, learning_rate=0.0000001)"
   ]
  },
  {
   "cell_type": "markdown",
   "id": "514570ca",
   "metadata": {
    "papermill": {
     "duration": 0.005213,
     "end_time": "2025-07-07T09:41:51.578716",
     "exception": false,
     "start_time": "2025-07-07T09:41:51.573503",
     "status": "completed"
    },
    "tags": []
   },
   "source": [
    "## Cell 8: Learning Rate Comparison"
   ]
  },
  {
   "cell_type": "code",
   "execution_count": 8,
   "id": "b228e08f",
   "metadata": {
    "execution": {
     "iopub.execute_input": "2025-07-07T09:41:51.591359Z",
     "iopub.status.busy": "2025-07-07T09:41:51.590479Z",
     "iopub.status.idle": "2025-07-07T09:41:52.747314Z",
     "shell.execute_reply": "2025-07-07T09:41:52.746295Z"
    },
    "papermill": {
     "duration": 1.166218,
     "end_time": "2025-07-07T09:41:52.750340",
     "exception": false,
     "start_time": "2025-07-07T09:41:51.584122",
     "status": "completed"
    },
    "tags": []
   },
   "outputs": [
    {
     "name": "stdout",
     "output_type": "stream",
     "text": [
      "\n",
      "🔬 Testing Safe learning rate: 1e-07\n",
      "🔄 Neuron reset! New parameters:\n",
      "   Price per sqft: $248.05\n",
      "   Base price: $69350.95\n",
      "\n",
      "🔬 Testing Moderate learning rate: 1e-06\n",
      "🔄 Neuron reset! New parameters:\n",
      "   Price per sqft: $199.09\n",
      "   Base price: $63287.19\n",
      "\n",
      "🔬 Testing Fast learning rate: 1e-05\n",
      "🔄 Neuron reset! New parameters:\n",
      "   Price per sqft: $196.60\n",
      "   Base price: $49266.43\n",
      "\n",
      "🔬 Testing 💥 Risky learning rate: 0.0001\n",
      "🔄 Neuron reset! New parameters:\n",
      "   Price per sqft: $195.71\n",
      "   Base price: $37211.50\n"
     ]
    },
    {
     "data": {
      "image/png": "[encoded data removed]",
      "text/plain": [
       "<Figure size 1500x1000 with 4 Axes>"
      ]
     },
     "metadata": {},
     "output_type": "display_data"
    },
    {
     "name": "stdout",
     "output_type": "stream",
     "text": [
      "\n",
      "📊 LEARNING RATE COMPARISON RESULTS:\n",
      "==================================================\n",
      "Safe         | Accuracy:  93.5% | Explosions: 14 | Price/sqft: $   191\n",
      "Moderate     | Accuracy:   0.0% | Explosions: 100 | Price/sqft: $ 10000\n",
      "Fast         | Accuracy:   0.0% | Explosions: 100 | Price/sqft: $-10000\n",
      "💥 Risky      | Accuracy:   0.0% | Explosions: 100 | Price/sqft: $-10000\n"
     ]
    }
   ],
   "source": [
    "def compare_learning_rates():\n",
    "    \"\"\"Compare different learning rates\"\"\"\n",
    "    rates = [0.0000001, 0.000001, 0.00001, 0.0001]\n",
    "    rate_names = [\"Safe\", \"Moderate\", \"Fast\", \"💥 Risky\"]\n",
    "    \n",
    "    fig, axes = plt.subplots(2, 2, figsize=(15, 10))\n",
    "    fig.suptitle('🧪 Learning Rate Experiment - Watch the Differences!', fontsize=16)\n",
    "    \n",
    "    results = {}\n",
    "    \n",
    "    for i, (rate, name) in enumerate(zip(rates, rate_names)):\n",
    "        print(f\"\\n🔬 Testing {name} learning rate: {rate}\")\n",
    "        \n",
    "        demo.reset_neuron()\n",
    "        history = []\n",
    "        explosion_count = 0\n",
    "        \n",
    "        # Train for 100 epochs\n",
    "        for epoch in range(100):\n",
    "            _, _, exploded = demo.train_one_epoch(rate)\n",
    "            if exploded:\n",
    "                explosion_count += 1\n",
    "            \n",
    "            accuracy = demo.calculate_accuracy()\n",
    "            history.append(accuracy)\n",
    "        \n",
    "        results[name] = {\n",
    "            'history': history,\n",
    "            'final_accuracy': history[-1],\n",
    "            'explosions': explosion_count,\n",
    "            'final_price': demo.price_per_sqft,\n",
    "            'final_base': demo.base_price\n",
    "        }\n",
    "        \n",
    "        # Plot results\n",
    "        ax = axes[i//2, i%2]\n",
    "        color = 'red' if explosion_count > 10 else 'green' if explosion_count == 0 else 'orange'\n",
    "        ax.plot(history, linewidth=2, color=color)\n",
    "        ax.set_title(f'{name}: {rate}')\n",
    "        ax.set_xlabel('Epoch')\n",
    "        ax.set_ylabel('Accuracy (%)')\n",
    "        ax.grid(True, alpha=0.3)\n",
    "        \n",
    "        # Add final accuracy and explosion info\n",
    "        ax.text(0.05, 0.95, f'Final: {history[-1]:.1f}%', \n",
    "                transform=ax.transAxes, fontsize=10,\n",
    "                bbox=dict(boxstyle=\"round,pad=0.3\", facecolor=\"lightblue\"))\n",
    "        \n",
    "        if explosion_count > 0:\n",
    "            ax.text(0.05, 0.85, f'💥 {explosion_count} explosions', \n",
    "                    transform=ax.transAxes, fontsize=10,\n",
    "                    bbox=dict(boxstyle=\"round,pad=0.3\", facecolor=\"lightcoral\"))\n",
    "    \n",
    "    plt.tight_layout()\n",
    "    plt.show()\n",
    "    \n",
    "    # Print summary\n",
    "    print(\"\\n📊 LEARNING RATE COMPARISON RESULTS:\")\n",
    "    print(\"=\" * 50)\n",
    "    for name, result in results.items():\n",
    "        print(f\"{name:12} | Accuracy: {result['final_accuracy']:5.1f}% | \"\n",
    "              f\"Explosions: {result['explosions']:2d} | \"\n",
    "              f\"Price/sqft: ${result['final_price']:6.0f}\")\n",
    "    \n",
    "    return results\n",
    "\n",
    "# Run the comparison\n",
    "results = compare_learning_rates()"
   ]
  },
  {
   "cell_type": "markdown",
   "id": "57ff2869",
   "metadata": {
    "papermill": {
     "duration": 0.00702,
     "end_time": "2025-07-07T09:41:52.764728",
     "exception": false,
     "start_time": "2025-07-07T09:41:52.757708",
     "status": "completed"
    },
    "tags": []
   },
   "source": [
    "## Cell 9: Interactive Widget Training"
   ]
  },
  {
   "cell_type": "code",
   "execution_count": 9,
   "id": "c4a52135",
   "metadata": {
    "execution": {
     "iopub.execute_input": "2025-07-07T09:41:52.780881Z",
     "iopub.status.busy": "2025-07-07T09:41:52.780507Z",
     "iopub.status.idle": "2025-07-07T09:41:53.050262Z",
     "shell.execute_reply": "2025-07-07T09:41:53.049343Z"
    },
    "papermill": {
     "duration": 0.280214,
     "end_time": "2025-07-07T09:41:53.052194",
     "exception": false,
     "start_time": "2025-07-07T09:41:52.771980",
     "status": "completed"
    },
    "tags": []
   },
   "outputs": [
    {
     "name": "stdout",
     "output_type": "stream",
     "text": [
      "🎮 Creating Interactive Training Widget...\n"
     ]
    },
    {
     "data": {
      "application/vnd.jupyter.widget-view+json": {
       "model_id": "8eb7ef8d5d42498ab10d7644f4d3a856",
       "version_major": 2,
       "version_minor": 0
      },
      "text/plain": [
       "interactive(children=(SelectionSlider(description='Learning Rate:', options=(('Safe (0.0000001)', 1e-07), ('Mo…"
      ]
     },
     "metadata": {},
     "output_type": "display_data"
    },
    {
     "data": {
      "application/vnd.jupyter.widget-view+json": {
       "model_id": "90126f551f9042779741cec6beb65823",
       "version_major": 2,
       "version_minor": 0
      },
      "text/plain": [
       "Output()"
      ]
     },
     "metadata": {},
     "output_type": "display_data"
    }
   ],
   "source": [
    "def create_interactive_trainer():\n",
    "    \"\"\"Create interactive training widget\"\"\"\n",
    "    \n",
    "    # Create widgets\n",
    "    learning_rate_widget = widgets.SelectionSlider(\n",
    "        options=[('Safe (0.0000001)', 0.0000001),\n",
    "                ('Moderate (0.000001)', 0.000001), \n",
    "                ('Fast (0.00001)', 0.00001),\n",
    "                ('💥 Risky (0.0001)', 0.0001),\n",
    "                ('🚨 Explosive (0.001)', 0.001)],\n",
    "        value=0.0000001,\n",
    "        description='Learning Rate:',\n",
    "        style={'description_width': 'initial'}\n",
    "    )\n",
    "    \n",
    "    epochs_widget = widgets.IntSlider(\n",
    "        value=100,\n",
    "        min=10,\n",
    "        max=300,\n",
    "        step=10,\n",
    "        description='Epochs:',\n",
    "        style={'description_width': 'initial'}\n",
    "    )\n",
    "    \n",
    "    output = widgets.Output()\n",
    "    \n",
    "    def train_network(learning_rate, epochs):\n",
    "        with output:\n",
    "            clear_output(wait=True)\n",
    "            \n",
    "            # Determine safety level\n",
    "            if learning_rate <= 0.0000001:\n",
    "                safety = \"✅ SAFE\"\n",
    "                color = \"green\"\n",
    "            elif learning_rate <= 0.000001:\n",
    "                safety = \"📈 MODERATE\" \n",
    "                color = \"blue\"\n",
    "            elif learning_rate <= 0.00001:\n",
    "                safety = \"⚡ FAST\"\n",
    "                color = \"orange\"\n",
    "            elif learning_rate <= 0.0001:\n",
    "                safety = \"⚠️ RISKY\"\n",
    "                color = \"red\"\n",
    "            else:\n",
    "                safety = \"💥 EXPLOSIVE!\"\n",
    "                color = \"darkred\"\n",
    "            \n",
    "            print(f\"🧠 Training Neural Network - {safety}\")\n",
    "            print(f\"📊 Learning Rate: {learning_rate} | Epochs: {epochs}\")\n",
    "            print(\"=\" * 50)\n",
    "            \n",
    "            # Train and track\n",
    "            demo.reset_neuron()\n",
    "            history = []\n",
    "            explosion_epochs = []\n",
    "            \n",
    "            for epoch in range(epochs):\n",
    "                _, _, exploded = demo.train_one_epoch(learning_rate)\n",
    "                \n",
    "                if exploded:\n",
    "                    explosion_epochs.append(epoch)\n",
    "                \n",
    "                accuracy = demo.calculate_accuracy()\n",
    "                history.append(accuracy)\n",
    "                \n",
    "                # Show progress\n",
    "                if epoch % max(1, epochs//10) == 0 or epoch == epochs - 1:\n",
    "                    status = \"💥\" if exploded else \"✅\"\n",
    "                    print(f\"Epoch {epoch:3d}: {accuracy:5.1f}% accuracy {status}\")\n",
    "            \n",
    "            # Final results\n",
    "            print(f\"\\n🏁 FINAL RESULTS:\")\n",
    "            print(f\"📈 Final Accuracy: {history[-1]:.1f}%\")\n",
    "            print(f\"💰 Learned Price/sqft: ${demo.price_per_sqft:.0f} (target: $200)\")\n",
    "            print(f\"🏠 Learned Base Price: ${demo.base_price:.0f} (target: $50,000)\")\n",
    "            \n",
    "            error_price = abs(demo.price_per_sqft - 200)\n",
    "            error_base = abs(demo.base_price - 50000)\n",
    "            print(f\"🎯 Price Error: ${error_price:.0f}\")\n",
    "            print(f\"🎯 Base Error: ${error_base:.0f}\")\n",
    "            \n",
    "            if explosion_epochs:\n",
    "                print(f\"💥 Explosions at epochs: {explosion_epochs[:10]}{'...' if len(explosion_epochs) > 10 else ''}\")\n",
    "                print(f\"💥 Total explosions: {len(explosion_epochs)}\")\n",
    "            else:\n",
    "                print(\"✅ No explosions detected!\")\n",
    "            \n",
    "            # Simple plot\n",
    "            plt.figure(figsize=(10, 6))\n",
    "            plt.plot(history, linewidth=2, color=color)\n",
    "            plt.title(f'Learning Progress - {safety}')\n",
    "            plt.xlabel('Epoch')\n",
    "            plt.ylabel('Accuracy (%)')\n",
    "            plt.grid(True, alpha=0.3)\n",
    "            plt.show()\n",
    "    \n",
    "    # Create interactive widget\n",
    "    interactive_plot = interactive(train_network, \n",
    "                                 learning_rate=learning_rate_widget,\n",
    "                                 epochs=epochs_widget)\n",
    "    \n",
    "    display(interactive_plot, output)\n",
    "\n",
    "print(\"🎮 Creating Interactive Training Widget...\")\n",
    "create_interactive_trainer()"
   ]
  },
  {
   "cell_type": "markdown",
   "id": "14768d84",
   "metadata": {
    "papermill": {
     "duration": 0.007474,
     "end_time": "2025-07-07T09:41:53.068681",
     "exception": false,
     "start_time": "2025-07-07T09:41:53.061207",
     "status": "completed"
    },
    "tags": []
   },
   "source": [
    "## Cell 10: Mathematical Explanation"
   ]
  },
  {
   "cell_type": "code",
   "execution_count": 10,
   "id": "9fcc35f9",
   "metadata": {
    "execution": {
     "iopub.execute_input": "2025-07-07T09:41:53.085621Z",
     "iopub.status.busy": "2025-07-07T09:41:53.085289Z",
     "iopub.status.idle": "2025-07-07T09:41:53.094239Z",
     "shell.execute_reply": "2025-07-07T09:41:53.093180Z"
    },
    "papermill": {
     "duration": 0.018932,
     "end_time": "2025-07-07T09:41:53.095544",
     "exception": false,
     "start_time": "2025-07-07T09:41:53.076612",
     "status": "completed"
    },
    "tags": []
   },
   "outputs": [
    {
     "name": "stdout",
     "output_type": "stream",
     "text": [
      "🧮 THE MATHEMATICS BEHIND NEURAL NETWORK LEARNING\n",
      "============================================================\n",
      "\n",
      "🎯 THE PREDICTION FORMULA:\n",
      "   predicted_price = price_per_sqft × square_feet + base_price\n",
      "\n",
      "🔄 HOW LEARNING WORKS (Gradient Descent):\n",
      "   1. Make predictions for all houses\n",
      "   2. Calculate errors: error = actual_price - predicted_price  \n",
      "   3. Calculate gradients (how much to adjust each parameter):\n",
      "      • price_gradient = average(error × square_feet)\n",
      "      • base_gradient = average(error)\n",
      "   4. Update parameters:\n",
      "      • price_per_sqft += learning_rate × price_gradient\n",
      "      • base_price += learning_rate × base_gradient\n",
      "   5. Repeat until parameters converge!\n",
      "\n",
      "🎛️ LEARNING RATE EFFECTS:\n",
      "   • Too small (0.0000001): Slow but steady convergence\n",
      "   • Just right (0.000001): Good balance of speed and stability  \n",
      "   • Too large (0.0001+): Parameters oscillate and explode! 💥\n",
      "\n",
      "🎯 THE GOAL:\n",
      "   Discover that the true relationship is:\n",
      "   price = $200 × square_feet + $50,000\n",
      "\n",
      "\n",
      "📊 CURRENT NEURON STATE:\n",
      "💰 Price per sqft: $194.41 (should be $200)\n",
      "🏠 Base price: $62585.46 (should be $50,000)\n",
      "🎯 Current accuracy: 95.8%\n",
      "\n",
      "🏠 CURRENT PREDICTIONS vs REALITY:\n",
      "House Size | Actual Price | Current Prediction | Error\n",
      "-------------------------------------------------------\n",
      "1000 sqft | $  250,000 | $      256,992 | $ 6,992\n",
      "1500 sqft | $  350,000 | $      354,195 | $ 4,195\n",
      "2000 sqft | $  450,000 | $      451,398 | $ 1,398\n",
      "2500 sqft | $  550,000 | $      548,602 | $ 1,398\n",
      "3000 sqft | $  650,000 | $      645,805 | $ 4,195\n"
     ]
    }
   ],
   "source": [
    "print(\"🧮 THE MATHEMATICS BEHIND NEURAL NETWORK LEARNING\")\n",
    "print(\"=\" * 60)\n",
    "\n",
    "print(\"\"\"\n",
    "🎯 THE PREDICTION FORMULA:\n",
    "   predicted_price = price_per_sqft × square_feet + base_price\n",
    "\n",
    "🔄 HOW LEARNING WORKS (Gradient Descent):\n",
    "   1. Make predictions for all houses\n",
    "   2. Calculate errors: error = actual_price - predicted_price  \n",
    "   3. Calculate gradients (how much to adjust each parameter):\n",
    "      • price_gradient = average(error × square_feet)\n",
    "      • base_gradient = average(error)\n",
    "   4. Update parameters:\n",
    "      • price_per_sqft += learning_rate × price_gradient\n",
    "      • base_price += learning_rate × base_gradient\n",
    "   5. Repeat until parameters converge!\n",
    "\n",
    "🎛️ LEARNING RATE EFFECTS:\n",
    "   • Too small (0.0000001): Slow but steady convergence\n",
    "   • Just right (0.000001): Good balance of speed and stability  \n",
    "   • Too large (0.0001+): Parameters oscillate and explode! 💥\n",
    "\n",
    "🎯 THE GOAL:\n",
    "   Discover that the true relationship is:\n",
    "   price = $200 × square_feet + $50,000\n",
    "\"\"\")\n",
    "\n",
    "# Show current state\n",
    "print(f\"\\n📊 CURRENT NEURON STATE:\")\n",
    "print(f\"💰 Price per sqft: ${demo.price_per_sqft:.2f} (should be $200)\")\n",
    "print(f\"🏠 Base price: ${demo.base_price:.2f} (should be $50,000)\")\n",
    "print(f\"🎯 Current accuracy: {demo.calculate_accuracy():.1f}%\")\n",
    "\n",
    "# Show predictions vs reality\n",
    "print(f\"\\n🏠 CURRENT PREDICTIONS vs REALITY:\")\n",
    "print(\"House Size | Actual Price | Current Prediction | Error\")\n",
    "print(\"-\" * 55)\n",
    "for _, house in demo.house_data.iterrows():\n",
    "    actual = house['actual_price']\n",
    "    predicted = demo.predict_price(house['square_feet'])\n",
    "    error = abs(actual - predicted)\n",
    "    print(f\"{house['square_feet']:4d} sqft | ${actual:9,} | ${predicted:13,.0f} | ${error:6,.0f}\")"
   ]
  },
  {
   "cell_type": "markdown",
   "id": "2c743349",
   "metadata": {
    "papermill": {
     "duration": 0.00766,
     "end_time": "2025-07-07T09:41:53.111504",
     "exception": false,
     "start_time": "2025-07-07T09:41:53.103844",
     "status": "completed"
    },
    "tags": []
   },
   "source": [
    "## Cell 11: Advanced Analysis"
   ]
  },
  {
   "cell_type": "code",
   "execution_count": 11,
   "id": "7bfcbf44",
   "metadata": {
    "execution": {
     "iopub.execute_input": "2025-07-07T09:41:53.128629Z",
     "iopub.status.busy": "2025-07-07T09:41:53.128311Z",
     "iopub.status.idle": "2025-07-07T09:41:54.110945Z",
     "shell.execute_reply": "2025-07-07T09:41:54.110121Z"
    },
    "papermill": {
     "duration": 0.995199,
     "end_time": "2025-07-07T09:41:54.114679",
     "exception": false,
     "start_time": "2025-07-07T09:41:53.119480",
     "status": "completed"
    },
    "tags": []
   },
   "outputs": [
    {
     "name": "stdout",
     "output_type": "stream",
     "text": [
      "🔬 ADVANCED ANALYSIS: Parameter Evolution\n",
      "==================================================\n",
      "🔄 Neuron reset! New parameters:\n",
      "   Price per sqft: $222.86\n",
      "   Base price: $74093.44\n",
      "🚀 Training for 150 epochs...\n",
      "  Epoch 30: Accuracy = 92.0%\n",
      "  Epoch 60: Accuracy = 92.0%\n",
      "  Epoch 90: Accuracy = 92.0%\n",
      "  Epoch 120: Accuracy = 92.0%\n",
      "  Epoch 150: Accuracy = 92.0%\n"
     ]
    },
    {
     "data": {
      "image/png": "[encoded data removed]",
      "text/plain": [
       "<Figure size 1500x1000 with 4 Axes>"
      ]
     },
     "metadata": {},
     "output_type": "display_data"
    },
    {
     "name": "stdout",
     "output_type": "stream",
     "text": [
      "\n",
      "📊 FINAL ANALYSIS:\n",
      "🎯 Price per sqft: $189.29 (error: $10.71)\n",
      "🏠 Base price: $74093.38 (error: $24093.38)\n",
      "📈 Final accuracy: 92.0%\n",
      "📉 Error reduction: 71664 → 8031\n",
      "⬆️ Accuracy improvement: +63.6%\n"
     ]
    }
   ],
   "source": [
    "def parameter_evolution_analysis():\n",
    "    \"\"\"Detailed analysis of how parameters evolve during training\"\"\"\n",
    "    print(\"🔬 ADVANCED ANALYSIS: Parameter Evolution\")\n",
    "    print(\"=\" * 50)\n",
    "    \n",
    "    demo.reset_neuron()\n",
    "    learning_rate = 0.0000001\n",
    "    epochs = 150\n",
    "    \n",
    "    # Track everything\n",
    "    history = {\n",
    "        'epochs': [],\n",
    "        'price_params': [],\n",
    "        'base_params': [],\n",
    "        'errors': [],\n",
    "        'accuracies': [],\n",
    "        'price_gradients': [],\n",
    "        'base_gradients': []\n",
    "    }\n",
    "    \n",
    "    # Record initial state\n",
    "    history['epochs'].append(0)\n",
    "    history['price_params'].append(demo.price_per_sqft)\n",
    "    history['base_params'].append(demo.base_price)\n",
    "    history['errors'].append(demo.calculate_error())\n",
    "    history['accuracies'].append(demo.calculate_accuracy())\n",
    "    history['price_gradients'].append(0)\n",
    "    history['base_gradients'].append(0)\n",
    "    \n",
    "    print(f\"🚀 Training for {epochs} epochs...\")\n",
    "    \n",
    "    # Train and record\n",
    "    for epoch in range(1, epochs + 1):\n",
    "        price_grad, base_grad, _ = demo.train_one_epoch(learning_rate)\n",
    "        \n",
    "        history['epochs'].append(epoch)\n",
    "        history['price_params'].append(demo.price_per_sqft)\n",
    "        history['base_params'].append(demo.base_price)\n",
    "        history['errors'].append(demo.calculate_error())\n",
    "        history['accuracies'].append(demo.calculate_accuracy())\n",
    "        history['price_gradients'].append(price_grad)\n",
    "        history['base_gradients'].append(base_grad)\n",
    "        \n",
    "        if epoch % 30 == 0:\n",
    "            print(f\"  Epoch {epoch}: Accuracy = {history['accuracies'][-1]:.1f}%\")\n",
    "    \n",
    "    # Create comprehensive visualization\n",
    "    fig, ((ax1, ax2), (ax3, ax4)) = plt.subplots(2, 2, figsize=(15, 10))\n",
    "    fig.suptitle('🧠 Neural Network Parameter Evolution Analysis', fontsize=16)\n",
    "    \n",
    "    epochs_list = history['epochs']\n",
    "    \n",
    "    # 1. Parameter convergence\n",
    "    ax1.plot(epochs_list, history['price_params'], 'b-', linewidth=2, label='Learned price/sqft')\n",
    "    ax1.axhline(y=200, color='r', linestyle='--', linewidth=2, label='True value ($200)')\n",
    "    ax1.set_title('Price per Sqft Convergence')\n",
    "    ax1.set_xlabel('Epoch')\n",
    "    ax1.set_ylabel('Price per Sqft ($)')\n",
    "    ax1.legend()\n",
    "    ax1.grid(True, alpha=0.3)\n",
    "    \n",
    "    # 2. Base price convergence\n",
    "    ax2.plot(epochs_list, history['base_params'], 'g-', linewidth=2, label='Learned base price')\n",
    "    ax2.axhline(y=50000, color='r', linestyle='--', linewidth=2, label='True value ($50k)')\n",
    "    ax2.set_title('Base Price Convergence')\n",
    "    ax2.set_xlabel('Epoch')\n",
    "    ax2.set_ylabel('Base Price ($)')\n",
    "    ax2.legend()\n",
    "    ax2.grid(True, alpha=0.3)\n",
    "    \n",
    "    # 3. Error reduction\n",
    "    ax3.plot(epochs_list, history['errors'], 'purple', linewidth=2)\n",
    "    ax3.set_title('Prediction Error Over Time')\n",
    "    ax3.set_xlabel('Epoch')\n",
    "    ax3.set_ylabel('RMSE ($)')\n",
    "    ax3.grid(True, alpha=0.3)\n",
    "    \n",
    "    # 4. Accuracy improvement\n",
    "    ax4.plot(epochs_list, history['accuracies'], 'orange', linewidth=2)\n",
    "    ax4.set_title('Accuracy Improvement')\n",
    "    ax4.set_xlabel('Epoch')\n",
    "    ax4.set_ylabel('Accuracy (%)')\n",
    "    ax4.grid(True, alpha=0.3)\n",
    "    \n",
    "    plt.tight_layout()\n",
    "    plt.show()\n",
    "    \n",
    "    # Final analysis\n",
    "    final_price_error = abs(demo.price_per_sqft - 200)\n",
    "    final_base_error = abs(demo.base_price - 50000)\n",
    "    \n",
    "    print(f\"\\n📊 FINAL ANALYSIS:\")\n",
    "    print(f\"🎯 Price per sqft: ${demo.price_per_sqft:.2f} (error: ${final_price_error:.2f})\")\n",
    "    print(f\"🏠 Base price: ${demo.base_price:.2f} (error: ${final_base_error:.2f})\")\n",
    "    print(f\"📈 Final accuracy: {history['accuracies'][-1]:.1f}%\")\n",
    "    print(f\"📉 Error reduction: {history['errors'][0]:.0f} → {history['errors'][-1]:.0f}\")\n",
    "    \n",
    "    improvement = history['accuracies'][-1] - history['accuracies'][0]\n",
    "    print(f\"⬆️ Accuracy improvement: +{improvement:.1f}%\")\n",
    "\n",
    "# Run the analysis\n",
    "parameter_evolution_analysis()"
   ]
  },
  {
   "cell_type": "markdown",
   "id": "4acf77c3",
   "metadata": {
    "papermill": {
     "duration": 0.01018,
     "end_time": "2025-07-07T09:41:54.135275",
     "exception": false,
     "start_time": "2025-07-07T09:41:54.125095",
     "status": "completed"
    },
    "tags": []
   },
   "source": [
    "## Cell 12: Conclusion & Next Steps"
   ]
  },
  {
   "cell_type": "code",
   "execution_count": 12,
   "id": "ff052bee",
   "metadata": {
    "execution": {
     "iopub.execute_input": "2025-07-07T09:41:54.158328Z",
     "iopub.status.busy": "2025-07-07T09:41:54.158046Z",
     "iopub.status.idle": "2025-07-07T09:41:54.250858Z",
     "shell.execute_reply": "2025-07-07T09:41:54.249413Z"
    },
    "papermill": {
     "duration": 0.106244,
     "end_time": "2025-07-07T09:41:54.252331",
     "exception": false,
     "start_time": "2025-07-07T09:41:54.146087",
     "status": "completed"
    },
    "tags": []
   },
   "outputs": [
    {
     "name": "stdout",
     "output_type": "stream",
     "text": [
      "🎉 CONGRATULATIONS! You've Mastered Neural Network Learning!\n",
      "=================================================================\n",
      "\n",
      "🧠 KEY CONCEPTS YOU'VE LEARNED:\n",
      "✅ Neural networks learn by adjusting parameters through gradient descent\n",
      "✅ Learning rates control the speed and stability of learning\n",
      "✅ Parameters gradually converge to optimal values over time  \n",
      "✅ Too high learning rates cause parameter explosions 💥\n",
      "✅ Visualization makes abstract math concepts tangible\n",
      "\n",
      "🎯 WHAT YOU'VE SEEN:\n",
      "- A single neuron learning the relationship: price = $200/sqft + $50,000\n",
      "- How gradient descent optimizes parameters automatically\n",
      "- The critical importance of learning rate selection\n",
      "- Real-time parameter evolution and convergence\n",
      "\n",
      "🚀 NEXT STEPS FOR DEEPER LEARNING:\n",
      "- Experiment with different datasets in /kaggle/input/\n",
      "- Try multi-layer neural networks (deep learning)\n",
      "- Explore other optimization algorithms (Adam, RMSprop)\n",
      "- Apply to real-world problems (image recognition, NLP)\n",
      "- Study backpropagation for complex networks\n",
      "\n",
      "📚 EDUCATIONAL APPLICATIONS:\n",
      "- Perfect for ML courses and workshops\n",
      "- Great for explaining AI to non-technical audiences  \n",
      "- Excellent teaching tool for gradient descent concepts\n",
      "- Ideal for hands-on learning experiences\n",
      "\n",
      "\n",
      "🎮 FINAL DEMONSTRATION:\n",
      "Let's train one more time with perfect settings...\n",
      "🔄 Neuron reset! New parameters:\n",
      "   Price per sqft: $249.27\n",
      "   Base price: $64631.89\n",
      "🔄 Neuron reset! New parameters:\n",
      "   Price per sqft: $242.52\n",
      "   Base price: $58422.36\n",
      "🚀 Training for 100 epochs with learning rate 1e-07\n",
      "============================================================\n",
      "\n",
      "🏁 Training Complete!\n",
      "📈 Final accuracy: 97.2%\n",
      "💰 Learned price per sqft: $196.26 (target: $200)\n",
      "🏠 Learned base price: $58422.33 (target: $50,000)\n",
      "💥 Explosions detected: 13 times\n",
      "\n",
      "✨ FINAL ACHIEVEMENT:\n",
      "🎯 Started with random parameters\n",
      "📈 Achieved 97.2% accuracy\n",
      "🎊 Successfully learned the house price relationship!\n",
      "\n",
      "🔗 SHARE THIS LEARNING EXPERIENCE:\n",
      "📊 Dataset: [Your Kaggle dataset URL]\n",
      "💻 Code: Available in this notebook\n",
      "🎓 Use: Perfect for teaching neural networks!\n",
      "\n",
      "💡 Remember: This simple example is the foundation of all neural networks!\n",
      "From this basic principle, we build AI systems that can:\n",
      "🖼️  Recognize images\n",
      "💬 Understand language\n",
      "🎮 Play games\n",
      "🧬 Discover new medicines\n",
      "\n",
      "🚀 Keep learning and building amazing things!\n"
     ]
    }
   ],
   "source": [
    "print(\"🎉 CONGRATULATIONS! You've Mastered Neural Network Learning!\")\n",
    "print(\"=\" * 65)\n",
    "\n",
    "print(\"\"\"\n",
    "🧠 KEY CONCEPTS YOU'VE LEARNED:\n",
    "✅ Neural networks learn by adjusting parameters through gradient descent\n",
    "✅ Learning rates control the speed and stability of learning\n",
    "✅ Parameters gradually converge to optimal values over time  \n",
    "✅ Too high learning rates cause parameter explosions 💥\n",
    "✅ Visualization makes abstract math concepts tangible\n",
    "\n",
    "🎯 WHAT YOU'VE SEEN:\n",
    "- A single neuron learning the relationship: price = $200/sqft + $50,000\n",
    "- How gradient descent optimizes parameters automatically\n",
    "- The critical importance of learning rate selection\n",
    "- Real-time parameter evolution and convergence\n",
    "\n",
    "🚀 NEXT STEPS FOR DEEPER LEARNING:\n",
    "- Experiment with different datasets in /kaggle/input/\n",
    "- Try multi-layer neural networks (deep learning)\n",
    "- Explore other optimization algorithms (Adam, RMSprop)\n",
    "- Apply to real-world problems (image recognition, NLP)\n",
    "- Study backpropagation for complex networks\n",
    "\n",
    "📚 EDUCATIONAL APPLICATIONS:\n",
    "- Perfect for ML courses and workshops\n",
    "- Great for explaining AI to non-technical audiences  \n",
    "- Excellent teaching tool for gradient descent concepts\n",
    "- Ideal for hands-on learning experiences\n",
    "\"\"\")\n",
    "\n",
    "# Final demonstration\n",
    "print(\"\\n🎮 FINAL DEMONSTRATION:\")\n",
    "print(\"Let's train one more time with perfect settings...\")\n",
    "\n",
    "demo.reset_neuron()\n",
    "final_history = quick_train(epochs=100, learning_rate=0.0000001, show_progress=False)\n",
    "\n",
    "print(f\"\\n✨ FINAL ACHIEVEMENT:\")\n",
    "print(f\"🎯 Started with random parameters\")\n",
    "print(f\"📈 Achieved {final_history[-1]['accuracy']:.1f}% accuracy\")\n",
    "print(f\"🎊 Successfully learned the house price relationship!\")\n",
    "\n",
    "print(f\"\\n🔗 SHARE THIS LEARNING EXPERIENCE:\")\n",
    "print(f\"📊 Dataset: [Your Kaggle dataset URL]\")\n",
    "print(f\"💻 Code: Available in this notebook\")\n",
    "print(f\"🎓 Use: Perfect for teaching neural networks!\")\n",
    "\n",
    "print(f\"\\n💡 Remember: This simple example is the foundation of all neural networks!\")\n",
    "print(f\"From this basic principle, we build AI systems that can:\")\n",
    "print(f\"🖼️  Recognize images\")\n",
    "print(f\"💬 Understand language\") \n",
    "print(f\"🎮 Play games\")\n",
    "print(f\"🧬 Discover new medicines\")\n",
    "\n",
    "print(f\"\\n🚀 Keep learning and building amazing things!\")"
   ]
  }
 ],
 "metadata": {
  "kaggle": {
   "accelerator": "none",
   "dataSources": [],
   "dockerImageVersionId": 31040,
   "isGpuEnabled": false,
   "isInternetEnabled": false,
   "language": "python",
   "sourceType": "notebook"
  },
  "kernelspec": {
   "display_name": "Python 3",
   "language": "python",
   "name": "python3"
  },
  "language_info": {
   "codemirror_mode": {
    "name": "ipython",
    "version": 3
   },
   "file_extension": ".py",
   "mimetype": "text/x-python",
   "name": "python",
   "nbconvert_exporter": "python",
   "pygments_lexer": "ipython3",
   "version": "3.11.11"
  },
  "papermill": {
   "default_parameters": {},
   "duration": 10.134361,
   "end_time": "2025-07-07T09:41:54.782534",
   "environment_variables": {},
   "exception": null,
   "input_path": "__notebook__.ipynb",
   "output_path": "__notebook__.ipynb",
   "parameters": {},
   "start_time": "2025-07-07T09:41:44.648173",
   "version": "2.6.0"
  },
  "widgets": {
   "application/vnd.jupyter.widget-state+json": {
    "state": {
     "04b6910bbc4a4b6a889aae800d8b972a": {
      "model_module": "@jupyter-widgets/base",
      "model_module_version": "2.0.0",
      "model_name": "LayoutModel",
      "state": {
       "_model_module": "@jupyter-widgets/base",
       "_model_module_version": "2.0.0",
       "_model_name": "LayoutModel",
       "_view_count": null,
       "_view_module": "@jupyter-widgets/base",
       "_view_module_version": "2.0.0",
       "_view_name": "LayoutView",
       "align_content": null,
       "align_items": null,
       "align_self": null,
       "border_bottom": null,
       "border_left": null,
       "border_right": null,
       "border_top": null,
       "bottom": null,
       "display": null,
       "flex": null,
       "flex_flow": null,
       "grid_area": null,
       "grid_auto_columns": null,
       "grid_auto_flow": null,
       "grid_auto_rows": null,
       "grid_column": null,
       "grid_gap": null,
       "grid_row": null,
       "grid_template_areas": null,
       "grid_template_columns": null,
       "grid_template_rows": null,
       "height": null,
       "justify_content": null,
       "justify_items": null,
       "left": null,
       "margin": null,
       "max_height": null,
       "max_width": null,
       "min_height": null,
       "min_width": null,
       "object_fit": null,
       "object_position": null,
       "order": null,
       "overflow": null,
       "padding": null,
       "right": null,
       "top": null,
       "visibility": null,
       "width": null
      }
     },
     "1f1ba7d03e004b97a20b275920681b6d": {
      "model_module": "@jupyter-widgets/controls",
      "model_module_version": "2.0.0",
      "model_name": "SelectionSliderModel",
      "state": {
       "_dom_classes": [],
       "_model_module": "@jupyter-widgets/controls",
       "_model_module_version": "2.0.0",
       "_model_name": "SelectionSliderModel",
       "_options_labels": [
        "Safe (0.0000001)",
        "Moderate (0.000001)",
        "Fast (0.00001)",
        "💥 Risky (0.0001)",
        "🚨 Explosive (0.001)"
       ],
       "_view_count": null,
       "_view_module": "@jupyter-widgets/controls",
       "_view_module_version": "2.0.0",
       "_view_name": "SelectionSliderView",
       "behavior": "drag-tap",
       "continuous_update": true,
       "description": "Learning Rate:",
       "description_allow_html": false,
       "disabled": false,
       "index": 0,
       "layout": "IPY_MODEL_2ef2480466314097b8a00fce78bf2e03",
       "orientation": "horizontal",
       "readout": true,
       "style": "IPY_MODEL_de3a436ae49b497a96bdc440c8e9effd",
       "tabbable": null,
       "tooltip": null
      }
     },
     "270c20975fba46c69f14cb46ed8ffeda": {
      "model_module": "@jupyter-widgets/base",
      "model_module_version": "2.0.0",
      "model_name": "LayoutModel",
      "state": {
       "_model_module": "@jupyter-widgets/base",
       "_model_module_version": "2.0.0",
       "_model_name": "LayoutModel",
       "_view_count": null,
       "_view_module": "@jupyter-widgets/base",
       "_view_module_version": "2.0.0",
       "_view_name": "LayoutView",
       "align_content": null,
       "align_items": null,
       "align_self": null,
       "border_bottom": null,
       "border_left": null,
       "border_right": null,
       "border_top": null,
       "bottom": null,
       "display": null,
       "flex": null,
       "flex_flow": null,
       "grid_area": null,
       "grid_auto_columns": null,
       "grid_auto_flow": null,
       "grid_auto_rows": null,
       "grid_column": null,
       "grid_gap": null,
       "grid_row": null,
       "grid_template_areas": null,
       "grid_template_columns": null,
       "grid_template_rows": null,
       "height": null,
       "justify_content": null,
       "justify_items": null,
       "left": null,
       "margin": null,
       "max_height": null,
       "max_width": null,
       "min_height": null,
       "min_width": null,
       "object_fit": null,
       "object_position": null,
       "order": null,
       "overflow": null,
       "padding": null,
       "right": null,
       "top": null,
       "visibility": null,
       "width": null
      }
     },
     "2ef2480466314097b8a00fce78bf2e03": {
      "model_module": "@jupyter-widgets/base",
      "model_module_version": "2.0.0",
      "model_name": "LayoutModel",
      "state": {
       "_model_module": "@jupyter-widgets/base",
       "_model_module_version": "2.0.0",
       "_model_name": "LayoutModel",
       "_view_count": null,
       "_view_module": "@jupyter-widgets/base",
       "_view_module_version": "2.0.0",
       "_view_name": "LayoutView",
       "align_content": null,
       "align_items": null,
       "align_self": null,
       "border_bottom": null,
       "border_left": null,
       "border_right": null,
       "border_top": null,
       "bottom": null,
       "display": null,
       "flex": null,
       "flex_flow": null,
       "grid_area": null,
       "grid_auto_columns": null,
       "grid_auto_flow": null,
       "grid_auto_rows": null,
       "grid_column": null,
       "grid_gap": null,
       "grid_row": null,
       "grid_template_areas": null,
       "grid_template_columns": null,
       "grid_template_rows": null,
       "height": null,
       "justify_content": null,
       "justify_items": null,
       "left": null,
       "margin": null,
       "max_height": null,
       "max_width": null,
       "min_height": null,
       "min_width": null,
       "object_fit": null,
       "object_position": null,
       "order": null,
       "overflow": null,
       "padding": null,
       "right": null,
       "top": null,
       "visibility": null,
       "width": null
      }
     },
     "3becbc8410514c659d4ad0f6ccb60f1c": {
      "model_module": "@jupyter-widgets/base",
      "model_module_version": "2.0.0",
      "model_name": "LayoutModel",
      "state": {
       "_model_module": "@jupyter-widgets/base",
       "_model_module_version": "2.0.0",
       "_model_name": "LayoutModel",
       "_view_count": null,
       "_view_module": "@jupyter-widgets/base",
       "_view_module_version": "2.0.0",
       "_view_name": "LayoutView",
       "align_content": null,
       "align_items": null,
       "align_self": null,
       "border_bottom": null,
       "border_left": null,
       "border_right": null,
       "border_top": null,
       "bottom": null,
       "display": null,
       "flex": null,
       "flex_flow": null,
       "grid_area": null,
       "grid_auto_columns": null,
       "grid_auto_flow": null,
       "grid_auto_rows": null,
       "grid_column": null,
       "grid_gap": null,
       "grid_row": null,
       "grid_template_areas": null,
       "grid_template_columns": null,
       "grid_template_rows": null,
       "height": null,
       "justify_content": null,
       "justify_items": null,
       "left": null,
       "margin": null,
       "max_height": null,
       "max_width": null,
       "min_height": null,
       "min_width": null,
       "object_fit": null,
       "object_position": null,
       "order": null,
       "overflow": null,
       "padding": null,
       "right": null,
       "top": null,
       "visibility": null,
       "width": null
      }
     },
     "809811c705c34ac7ae35e56d1ea612d3": {
      "model_module": "@jupyter-widgets/controls",
      "model_module_version": "2.0.0",
      "model_name": "IntSliderModel",
      "state": {
       "_dom_classes": [],
       "_model_module": "@jupyter-widgets/controls",
       "_model_module_version": "2.0.0",
       "_model_name": "IntSliderModel",
       "_view_count": null,
       "_view_module": "@jupyter-widgets/controls",
       "_view_module_version": "2.0.0",
       "_view_name": "IntSliderView",
       "behavior": "drag-tap",
       "continuous_update": true,
       "description": "Epochs:",
       "description_allow_html": false,
       "disabled": false,
       "layout": "IPY_MODEL_b3c5da69cb394c8aa3d1b5c09c9992a9",
       "max": 300,
       "min": 10,
       "orientation": "horizontal",
       "readout": true,
       "readout_format": "d",
       "step": 10,
       "style": "IPY_MODEL_e2710e4924cd45f2a3c9a55937979d98",
       "tabbable": null,
       "tooltip": null,
       "value": 100
      }
     },
     "8eb7ef8d5d42498ab10d7644f4d3a856": {
      "model_module": "@jupyter-widgets/controls",
      "model_module_version": "2.0.0",
      "model_name": "VBoxModel",
      "state": {
       "_dom_classes": [
        "widget-interact"
       ],
       "_model_module": "@jupyter-widgets/controls",
       "_model_module_version": "2.0.0",
       "_model_name": "VBoxModel",
       "_view_count": null,
       "_view_module": "@jupyter-widgets/controls",
       "_view_module_version": "2.0.0",
       "_view_name": "VBoxView",
       "box_style": "",
       "children": [
        "IPY_MODEL_1f1ba7d03e004b97a20b275920681b6d",
        "IPY_MODEL_809811c705c34ac7ae35e56d1ea612d3",
        "IPY_MODEL_f1c4bb7d9d3146099b37b1fa0ac9bee6"
       ],
       "layout": "IPY_MODEL_3becbc8410514c659d4ad0f6ccb60f1c",
       "tabbable": null,
       "tooltip": null
      }
     },
     "90126f551f9042779741cec6beb65823": {
      "model_module": "@jupyter-widgets/output",
      "model_module_version": "1.0.0",
      "model_name": "OutputModel",
      "state": {
       "_dom_classes": [],
       "_model_module": "@jupyter-widgets/output",
       "_model_module_version": "1.0.0",
       "_model_name": "OutputModel",
       "_view_count": null,
       "_view_module": "@jupyter-widgets/output",
       "_view_module_version": "1.0.0",
       "_view_name": "OutputView",
       "layout": "IPY_MODEL_270c20975fba46c69f14cb46ed8ffeda",
       "msg_id": "",
       "outputs": [
        {
         "name": "stdout",
         "output_type": "stream",
         "text": "🧠 Training Neural Network - ✅ SAFE\n📊 Learning Rate: 1e-07 | Epochs: 100\n==================================================\n🔄 Neuron reset! New parameters:\n   Price per sqft: $247.15\n   Base price: $62585.50\nEpoch   0:  38.3% accuracy 💥\nEpoch  10:  95.8% accuracy 💥\nEpoch  20:  95.8% accuracy ✅\nEpoch  30:  95.8% accuracy ✅\nEpoch  40:  95.8% accuracy ✅\nEpoch  50:  95.8% accuracy ✅\nEpoch  60:  95.8% accuracy ✅\nEpoch  70:  95.8% accuracy ✅\nEpoch  80:  95.8% accuracy ✅\nEpoch  90:  95.8% accuracy ✅\nEpoch  99:  95.8% accuracy ✅\n\n🏁 FINAL RESULTS:\n📈 Final Accuracy: 95.8%\n💰 Learned Price/sqft: $194 (target: $200)\n🏠 Learned Base Price: $62585 (target: $50,000)\n🎯 Price Error: $6\n🎯 Base Error: $12585\n💥 Explosions at epochs: [0, 1, 2, 3, 4, 5, 6, 7, 8, 9]...\n💥 Total explosions: 14\n"
        },
        {
         "data": {
          "image/png": "iVBORw0KGgoAAAANSUhEUgAAA0kAAAIjCAYAAADWYVDIAAAAOXRFWHRTb2Z0d2FyZQBNYXRwbG90bGliIHZlcnNpb24zLjcuMiwgaHR0cHM6Ly9tYXRwbG90bGliLm9yZy8pXeV/AAAACXBIWXMAAA9hAAAPYQGoP6dpAABR4UlEQVR4nO3de1yUdf7//+cMZxAEkaMHRDPPlqkpaYdNisxcNcv0Y5uam7Wpeeio5dlC3W3za5lmmW2FWpa6tfuzMkvN1rNllmVWFqUCnjh4AJG5fn94Y5oRLJhgrmvgcb/duO3MNRfDa/BV+dzX+3pfNsMwDAEAAAAAJEl2swsAAAAAACshJAEAAACAC0ISAAAAALggJAEAAACAC0ISAAAAALggJAEAAACAC0ISAAAAALggJAEAAACAC0ISAAAAALggJAFALdKkSRMNHTrU7DIAALA0QhIAVNIrr7wim82mHTt2mF2KT7HZbM4vu92uxMRE3XjjjVq/fr3ZpdV6R44c0ZgxY9SyZUuFhIQoNjZWV155pR599FGdPHmy3O95/vnnZbPZ1KVLl4u+r+ufuetXfHy885ypU6de9DybzaasrKwq/7wA8Hv8zS4AAOA9+/btk91u3v8/dsMNN+iuu+6SYRg6cOCAnn/+eV1//fX673//q549e5pWly/76quv1KFDBwUGBpb7+tmzZ/X111+rWbNm5b5+/PhxderUSfn5+br77rvVsmVLHTt2TF988YUWLFigv/3tb6pTp06Z78vIyFCTJk20bds2fffdd7rkkkvKff/SP3NXISEhZc5bsGBBuT8nMjKy3PcFgOpESAIAH3Xu3Dk5HI6L/uW4PEFBQdVY0e+79NJLdeeddzqf9+vXT+3bt9fcuXMvGpIKCwsVGBjolXDnye/UbIZh6Morr9SmTZvKfb1r164yDOOi37948WJlZmbq008/1VVXXeX2Wn5+frm/iwMHDuh///ufVq5cqXvvvVcZGRmaMmVKue9/4Z/5xdx2222qX7/+754HAN7AcjsAqCYHDx7U3Xffrbi4OAUFBalNmzZ6+eWX3c45e/asJk+erI4dO6pu3boKCwvT1VdfrY8//tjtvB9//FE2m03/+Mc/NHfuXDVr1kxBQUHau3evc7nSd999p6FDhyoyMlJ169bVsGHDdPr0abf3ufCapNKlg59++qnGjx+vmJgYhYWFqV+/fjpy5Ijb9zocDk2dOlWJiYkKDQ3Vn/70J+3du/cPXefUrl071a9fXwcOHJAkrV+/XjabTcuXL9cTTzyhBg0aKDQ0VPn5+ZKkFStWqGPHjgoJCVH9+vV155136uDBg2Xed8WKFWrdurWCg4PVtm1brVq1SkOHDlWTJk0q9DuVpG+++Ua33Xab6tWrp+DgYHXq1EnvvPOO288pLi7WtGnT1Lx5cwUHBys6Olrdu3fX2rVrnedkZWVp2LBhatiwoYKCgpSQkKA+ffroxx9/9Oh3VtW+//57+fn5qWvXrmVei4iIUHBwcJnjGRkZioqKUq9evXTbbbcpIyPDG6UCgNcwSQKAapCdna2uXbvKZrNp1KhRiomJ0Zo1azR8+HDl5+dr7Nixks7/P/UvvfSSBg0apHvuuUcFBQVavHix0tLStG3bNl1++eVu77tkyRIVFhZqxIgRCgoKUr169ZyvDRgwQMnJyUpPT9euXbv00ksvKTY2VrNnz/7dekePHq2oqChNmTJFP/74o+bOnatRo0bpjTfecJ4zYcIEzZkzR71791ZaWpp2796ttLQ0FRYWevx7OnHihE6cOFFmqdaMGTMUGBiohx56SEVFRQoMDNQrr7yiYcOGqXPnzkpPT1d2drb+3//7f/r000/12WefOZdl/fe//9Udd9yhdu3aKT09XSdOnNDw4cPVoEGDcmso73f61VdfqVu3bmrQoIEee+wxhYWF6c0331Tfvn319ttvq1+/fpLOX0+Tnp6uv/71r7ryyiuVn5+vHTt2aNeuXbrhhhskSf3799dXX32l0aNHq0mTJsrJydHatWuVmZnpFtrMkpSUpJKSEr322msaMmRIhb4nIyNDt956qwIDAzVo0CAtWLBA27dvV+fOncucW1hYqKNHj7odCw8PLzPVPH78eJnv9ff3Z7kdAHMYAIBKWbJkiSHJ2L59+0XPGT58uJGQkGAcPXrU7fjAgQONunXrGqdPnzYMwzDOnTtnFBUVuZ1z4sQJIy4uzrj77rudxw4cOGBIMiIiIoycnBy386dMmWJIcjvfMAyjX79+RnR0tNuxpKQkY8iQIWU+S2pqquFwOJzHx40bZ/j5+Rm5ubmGYRhGVlaW4e/vb/Tt29ft/aZOnWpIcnvPi5FkDB8+3Dhy5IiRk5NjbN261ejRo4chyXj66acNwzCMjz/+2JBkNG3a1Pk7MgzDOHv2rBEbG2u0bdvWOHPmjPP4f/7zH0OSMXnyZOexdu3aGQ0bNjQKCgqcx9avX29IMpKSkpzHfut32qNHD6Ndu3ZGYWGh85jD4TCuuuoqo3nz5s5jl112mdGrV6+LfuYTJ04Ykoy///3vv/v78dSePXuMbt26XfT1Ll26GPv377/o61lZWUZMTIwhyWjZsqVx3333GUuXLnX+2V9ox44dhiRj7dq1hmGc/700bNjQGDNmTJlzJZX7tWTJEuc5pf1b3leLFi0q9ksAgCrGcjsAqGKGYejtt99W7969ZRiGjh496vxKS0tTXl6edu3aJUny8/NzXvPhcDh0/PhxnTt3Tp06dXKe46p///6KiYkp9+fed999bs+vvvpqHTt2zLlU7beMGDFCNpvN7XtLSkr0008/SZLWrVunc+fO6f7773f7vtGjR//ue7tavHixYmJiFBsbqy5dujiX+ZVO1koNGTLE7eL+HTt2KCcnR/fff7/b8q9evXqpZcuW+u9//ytJOnTokPbs2aO77rrLbROAa6+9Vu3atSu3pgt/p8ePH9dHH32kAQMGqKCgwPlnd+zYMaWlpWn//v3OJX6RkZH66quvtH///nLfOyQkRIGBgVq/fr1OnDhRqd+Vt8TFxWn37t267777dOLECS1cuFD/93//p9jYWM2YMaPM9UwZGRmKi4vTn/70J0nnd7C74447tHz5cpWUlJR5/z59+mjt2rVuX2lpaWXOe/vtt8uct2TJkur50ADwO1huBwBV7MiRI8rNzdWiRYu0aNGics/JyclxPv7Xv/6lp59+Wt98842Ki4udx5OTk8t8X3nHSjVu3NjteVRUlKTzS9oiIiJ+s+bf+l5JzrB04bK4evXqOc+tiD59+mjUqFGy2WwKDw9XmzZtFBYWVua8Cz9n6c9v0aJFmXNbtmzp3LTgYnWWHisveF74s7777jsZhqFJkyZp0qRJ5X6OnJwcNWjQQNOnT1efPn106aWXqm3btrrpppv0l7/8Re3bt5d0fqOM2bNn68EHH1RcXJy6du2qW265RXfddZfbNtgXOnPmjPLy8tyO/db5f1RCQoIWLFig559/Xvv379f777+v2bNna/LkyUpISNBf//pXSVJJSYmWL1+uP/3pT87ryCSpS5cuevrpp7Vu3TrdeOONbu/dsGFDpaam/m4N11xzDRs3ALAMQhIAVDGHwyFJuvPOOy96jUfpX6Jff/11DR06VH379tXDDz+s2NhY+fn5KT09Xd9//32Z7ytv6+RSfn5+5R6/cBJQ1d9bGRX9C/Nvfc6qduHPKv3ze+ihh8qdeEi/hrBrrrlG33//vf7973/rgw8+0EsvvaRnnnlGCxcudAaLsWPHqnfv3lq9erXef/99TZo0Senp6froo4/UoUOHct//jTfe0LBhw9yOVfWfRXlsNpsuvfRSXXrpperVq5eaN2+ujIwM52f56KOPdPjwYS1fvlzLly8v8/0ZGRllQhIA+CJCEgBUsZiYGIWHh6ukpOR3A8Fbb72lpk2bauXKlW7L3S62nbJZkpKSJJ2fsrhOXo4dO+aVZWSlP3/fvn26/vrr3V7bt2+f83XXOi9U3rHyNG3aVJIUEBBQoUBXr149DRs2TMOGDdPJkyd1zTXXaOrUqc5gIUnNmjXTgw8+qAcffFD79+/X5Zdfrqefflqvv/56ue+ZlpbmtkOeGZo2baqoqCgdPnzYeSwjI0OxsbGaP39+mfNXrlypVatWaeHChV4NuQBQHbgmCQCqmJ+fn/r376+3335bX375ZZnXXbfWLp3guE4Jtm7dqs2bN1d/oZXQo0cP+fv7a8GCBW7Hn3vuOa/8/E6dOik2NlYLFy5UUVGR8/iaNWv09ddfq1evXpKkxMREtW3bVq+++qpOnjzpPG/Dhg3as2dPhX5WbGysrrvuOr3wwgtuAaGU65/fsWPH3F6rU6eOLrnkEmeNp0+fLrP7X7NmzRQeHu72OS6UkJCg1NRUt6/qsnXrVp06darM8W3btunYsWPOJY5nzpzRypUrdcstt+i2224r8zVq1CgVFBSU2SYdAHwRkyQA8NDLL7+s9957r8zxMWPGaNasWfr444/VpUsX3XPPPWrdurWOHz+uXbt26cMPP3Rud3zLLbdo5cqV6tevn3r16qUDBw5o4cKFat26tdtf8s0WFxenMWPG6Omnn9af//xn3XTTTdq9e7fWrFmj+vXru03BqkNAQIBmz56tYcOG6dprr9WgQYOcW4A3adJE48aNc5771FNPqU+fPurWrZuGDRumEydO6LnnnlPbtm0r/DudP3++unfvrnbt2umee+5R06ZNlZ2drc2bN+uXX37R7t27JUmtW7fWddddp44dO6pevXrasWOH3nrrLY0aNUqS9O2336pHjx4aMGCAWrduLX9/f61atUrZ2dkaOHBg1f+iPPDaa68pIyND/fr1U8eOHRUYGKivv/5aL7/8soKDgzVx4kRJ0jvvvKOCggL9+c9/Lvd9unbtqpiYGGVkZOiOO+6odB1vvfWW22YbpW644QbFxcVV+v0A4I8gJAGAhy6cqpQaOnSoGjZsqG3btmn69OlauXKlnn/+eUVHR6tNmzZu9y0aOnSosrKy9MILL+j9999X69at9frrr2vFihVav369lz5JxcyePVuhoaF68cUX9eGHHyolJUUffPCBunfvXu4NR6va0KFDFRoaqlmzZunRRx913vR29uzZbvfS6d27t5YtW6apU6fqscceU/PmzfXKK6/oX//6l7766qsK/azWrVtrx44dmjZtml555RUdO3ZMsbGx6tChgyZPnuw874EHHtA777yjDz74QEVFRUpKStLMmTP18MMPS5IaNWqkQYMGad26dXrttdfk7++vli1b6s0331T//v2r9PfjqXvvvVehoaFat26d/v3vfys/P18xMTG68cYbNWHCBOd1UxkZGQoODnbe/+lCdrtdvXr1UkZGho4dO6bo6OhK1fG3v/2t3OMff/wxIQmA19kMb1wJCgCokXJzcxUVFaWZM2fq8ccfN7uc33T55ZcrJibG9Gt9qtqXX36p++67z7nD34W6du2q119/vdwd/wAA5eOaJABAhZw5c6bMsblz50qSrrvuOu8W8xuKi4t17tw5t2Pr16/X7t27LVUnAMC6WG4HAKiQN954Q6+88opuvvlm1alTR5s2bdKyZct04403qlu3bmaX53Tw4EGlpqbqzjvvVGJior755hstXLhQ8fHxZW64W1Ns2bLFbcmhKytd2wYAvoKQBACokPbt28vf319z5sxRfn6+czOHmTNnml2am6ioKHXs2FEvvfSSjhw5orCwMPXq1UuzZs2q9HUyvqBt27ZlJmcAgD+Ga5IAAAAAwAXXJAEAAACAC0ISAAAAALio8dckORwOHTp0SOHh4dV+s0MAAAAA1mUYhgoKCpSYmCi7/eLzohofkg4dOqRGjRqZXQYAAAAAi/j555/VsGHDi75e40NSeHi4pPO/iIiICFNrcTgcOnLkiGJiYn4zuQKu6Bt4it6BJ+gbeIK+gae83Tv5+flq1KiRMyNcTI0PSaVL7CIiIiwRkgoLCxUREcG/QFBh9A08Re/AE/QNPEHfwFNm9c7vXYZDFwMAAACAC0ISAAAAALggJAEAAACAC0ISAAAAALggJAEAAACAC0ISAAAAALggJAEAAACAC0ISAAAAALggJAEAAACAC0ISAAAAALggJAEAAACAC0ISAAAAALggJAEAAACAC0ISAAAAALggJAEAAACAC0ISAAAAALjwN7sA+K7Cc4U6dvqYjp055va/J8+eVLGjWGdLzpb5Ouc4J4fhkMNwyJDx62Pj/GNJMmTIMAznY0nO5+UpPaemMgxDRUVFCgoKks1mM7sc+BB6B56gb+AJ+gYV8UqfVxQWGGZ2GRVCSMLvMgxD35/4XpsyN+mTnz7R/375nzLzMnW6+LTZpQEAAMBHvNj7RbNLqDBCEsr1Zc6XWvfDOn2S+Yk2ZW5S9qlss0sCAAAAvIKQBDcFRQUa+95Yvfz5yxc9J8AeoObRzRUdEq3o0Ojz/+vyOCIoQoF+gWW+AvwC5G/3l5/NTzabTXabXXabXTadf2yz2WTT+RH9hY8lOZ9Xlq+P/R0Oh44ePar69evLbucyQlQcvQNP0DfwBH2DiogIijC7hAojJMFpyy9bdOfKO/X9ie/djkcERahbo27q3ri7ujfurs6JnRUSEGJSlbWPw+FQYGGgYiNi+Q8PKoXegSfoG3iCvkFNQ0iCzjnOaebGmZq5caZKjBJJUp3AOpp0zSSlNUtT29i28rP7mVwlAAAA4B2EpFruu+Pf6c6Vd2rrwa3OYykNU/Rav9fUrF4zEysDAAAAzEFIqqUMw9CSz5fogTUP6FTxKUmSn81Pk6+drIlXT5S/ndYAAABA7cTfhGupf/zvH3rkw0ecz5tFNdPrt76urg27mlgVAAAAYD5CUi2UdTJL0zZMcz4f3mG45t40V3UC65hYFQAAAGANhKRaaMaGGc4ldvd3ul/ze803uSIAAADAOtijsZbZf2y/Fu1aJOn8DnZTrptickUAAACAtRCSapknPn5C5xznJEkPpTyk2LBYkysCAAAArIWQVItsP7hdb371piQpNixW41PGm1wRAAAAYD2EpFrCMAw9+uGjzueTr5ms8KBwEysCAAAArImQVEt88P0H+vjHjyWd3+77no73mFwRAAAAYE2EpFrAYTjcpkhPXv+kAv0CTawIAAAAsC5CUi2wbM8y7c7eLUnqmNBRt7e53eSKAAAAAOsiJNVwReeK9MTHTzifz06dLbuNP3YAAADgYvjbcg23cMdC/Zj7oyTpxmY3qkfTHuYWBAAAAFgcIakGyyvM04yNM5zPZ/WYZWI1AAAAgG8gJNVgT29+WsfOHJMk/V+7/1OHhA4mVwQAAABYHyGpBsvYkyFJ8rf7a8afZvzO2QAAAAAkQlKN9Uv+L/rhxA+SpKsaXaWmUU1NrggAAADwDYSkGuqTnz5xPr6m8TUmVgIAAAD4FkJSDfVJ5q8h6eqkq02sBAAAAPAthKQaauNPGyVJfjY/pTRMMbkaAAAAwHcQkmqgo6eP6qsjX0mSrki4QuFB4SZXBAAAAPgOQlINtClzk/Px1Y1ZagcAAABUBiGpBnLbtCGJTRsAAACAyiAk1UAbMzc6H3dv3N3ESgAAAADfQ0iqYQqKCrTr8C5JUtvYtooOjTa5IgAAAMC3EJJqmM2/bJbDcEjieiQAAADAE4SkGqZ062+J65EAAAAATxCSahjXkMQkCQAAAKg8QlINUniuUNsObpMkNY1qqgYRDUyuCAAAAPA9hKQaZPvB7SoqKZLEUjsAAADAU4SkGsTteqTGhCQAAADAE4SkGuSTTG4iCwAAAPxRhKQa4pzjnD79+VNJUkKdBDWNampyRQAAAIBvMjUkFRQUaOzYsUpKSlJISIiuuuoqbd++3fm6YRiaPHmyEhISFBISotTUVO3fv9/Eiq3r86zPdfLsSUnnp0g2m83kigAAAADfZGpI+utf/6q1a9fqtdde0549e3TjjTcqNTVVBw8elCTNmTNH8+bN08KFC7V161aFhYUpLS1NhYWFZpZtSZ/8xFI7AAAAoCqYFpLOnDmjt99+W3PmzNE111yjSy65RFOnTtUll1yiBQsWyDAMzZ07V0888YT69Omj9u3b69VXX9WhQ4e0evVqs8q2rI2Z3B8JAAAAqAr+Zv3gc+fOqaSkRMHBwW7HQ0JCtGnTJh04cEBZWVlKTU11vla3bl116dJFmzdv1sCBA8t936KiIhUVFTmf5+fnS5IcDoccDkc1fJKKczgcMgyjyutwGA7nJCkqOEqt6rcy/bOi6lRX36Dmo3fgCfoGnqBv4Clv905Ff45pISk8PFwpKSmaMWOGWrVqpbi4OC1btkybN2/WJZdcoqysLElSXFyc2/fFxcU5XytPenq6pk2bVub4kSNHTF+m53A4lJeXJ8MwZLdX3RBv3/F9OnbmmCTpyrgrdfTI0Sp7b5ivuvoGNR+9A0/QN/AEfQNPebt3CgoKKnSeaSFJkl577TXdfffdatCggfz8/HTFFVdo0KBB2rlzp8fvOWHCBI0fP975PD8/X40aNVJMTIwiIiKqomyPORwO2Ww2xcTEVGkTrPx5pfNxavNUxcbGVtl7w3zV1Teo+egdeIK+gSfoG3jK271z4Sq2izE1JDVr1kwbNmzQqVOnlJ+fr4SEBN1xxx1q2rSp4uPjJUnZ2dlKSEhwfk92drYuv/zyi75nUFCQgoKCyhy32+2W+IfWZrNVeS2bMjc5H1/T5BpLfE5UreroG9QO9A48Qd/AE/QNPOXN3qnoz7BEF4eFhSkhIUEnTpzQ+++/rz59+ig5OVnx8fFat26d87z8/Hxt3bpVKSkpJlZrLYZhaONP5zdtCAsIU4f4DiZXBAAAAPg2UydJ77//vgzDUIsWLfTdd9/p4YcfVsuWLTVs2DDZbDaNHTtWM2fOVPPmzZWcnKxJkyYpMTFRffv2NbNsS/kx90cdLDi/ZfpVja5SgF+AyRUBAAAAvs3UkJSXl6cJEybol19+Ub169dS/f389+eSTCgg4/xf9Rx55RKdOndKIESOUm5ur7t2767333qvwWsLaoHSKJLH1NwAAAFAVTA1JAwYM0IABAy76us1m0/Tp0zV9+nQvVuVbXEMSN5EFAAAA/jhLXJMEz33686eSpEC/QF3Z4EqTqwEAAAB8HyHJh51znNN3x7+TJLWOaa2QgBCTKwIAAAB8HyHJhx0qOKQSo0SS1CSyibnFAAAAADUEIcmH/ZT7k/NxUt0kEysBAAAAag5Ckg/7KY+QBAAAAFQ1QpIPc5skRRKSAAAAgKpASPJhTJIAAACAqkdI8mFuIYlJEgAAAFAlCEk+rHS5XWhAqKJDok2uBgAAAKgZCEk+yjAMZeZlSjq//bfNZjO5IgAAAKBmICT5qCOnj+jMuTOSuB4JAAAAqEqEJB/1Y+6PzseEJAAAAKDqEJJ8FNt/AwAAANWDkOSj2P4bAAAAqB6EJB/FJAkAAACoHoQkH8UkCQAAAKgehCQfVRqSAuwBSghPMLkaAAAAoOYgJPmo0uV2jeo2kt3GHyMAAABQVfjbtQ/KK8xTXlGeJJbaAQAAAFWNkOSD3K5HYtMGAAAAoEoRknyQ6852Teo2Ma8QAAAAoAYiJPmgH3N/dD5mkgQAAABULUKSD2L7bwAAAKD6EJJ8ENckAQAAANWHkOSDSq9JssmmhhENTa4GAAAAqFkIST6odJKUGJ6oQL9Ak6sBAAAAahZCko85U3xGOadyJLHUDgAAAKgOhCQfk5mX6XzMpg0AAABA1SMk+Rh2tgMAAACqFyHJx7jeSJbldgAAAEDVIyT5GNdJUpPIJuYVAgAAANRQhCQf82Puj87HLLcDAAAAqh4hyce4TpIa121sYiUAAABAzURI8jGl1yTVD62vsMAwk6sBAAAAah5Ckg8pLinWwYKDklhqBwAAAFQXQpIPOVhwUA7DIYmd7QAAAIDqQkjyIW7bfzNJAgAAAKoFIcmHcCNZAAAAoPoRknwIN5IFAAAAqh8hyYcwSQIAAACqHyHJh7iGpCaRTcwrBAAAAKjBCEk+5MfcHyVJ4YHhigyONLUWAAAAoKYiJPkIh+FQZl6mpPPXI9lsNpMrAgAAAGomQpKPyD6ZrbMlZyVxPRIAAABQnQhJPoJNGwAAAADvICT5CLb/BgAAALyDkOQjmCQBAAAA3kFI8hFMkgAAAADvICT5CCZJAAAAgHcQknxEaUgK9AtUXJ04k6sBAAAAai5Ckg8wDMO53C6pbpLsNv7YAAAAgOrC37Z9wInCEyo4WyCJ65EAAACA6kZI8gFumzZwPRIAAABQrQhJPoBNGwAAAADvIST5ALb/BgAAALyHkOQDmCQBAAAA3kNI8gFuIYlJEgAAAFCtCEk+oHS5nd1mV4PwBiZXAwAAANRshCQfUDpJahDeQAF+ASZXAwAAANRshCSLKzxXqKOnj0qSGtdtbHI1AAAAQM1HSLK4E2dOOB/XD61vYiUAAABA7UBIsrjcwlzn48jgSNPqAAAAAGoLU0NSSUmJJk2apOTkZIWEhKhZs2aaMWOGDMNwnmMYhiZPnqyEhASFhIQoNTVV+/fvN7Fq7zpR+OskKSo4ysRKAAAAgNrB1JA0e/ZsLViwQM8995y+/vprzZ49W3PmzNGzzz7rPGfOnDmaN2+eFi5cqK1btyosLExpaWkqLCw0sXLvcV1uFxVCSAIAAACqm7+ZP/x///uf+vTpo169ekmSmjRpomXLlmnbtm2Szk+R5s6dqyeeeEJ9+vSRJL366quKi4vT6tWrNXDgQNNq9xaW2wEAAADeZWpIuuqqq7Ro0SJ9++23uvTSS7V7925t2rRJ//znPyVJBw4cUFZWllJTU53fU7duXXXp0kWbN28uNyQVFRWpqKjI+Tw/P1+S5HA45HA4qvkT/TaHwyHDMCpVx/Ezx52P6wbVNf0zwPs86RtAonfgGfoGnqBv4Clv905Ff46pIemxxx5Tfn6+WrZsKT8/P5WUlOjJJ5/U4MGDJUlZWVmSpLi4OLfvi4uLc752ofT0dE2bNq3M8SNHjpi+RM/hcCgvL0+GYchur9hKx1+O/eJ8bCu0KScnp7rKg0V50jeARO/AM/QNPEHfwFPe7p2CgoIKnWdqSHrzzTeVkZGhpUuXqk2bNvr88881duxYJSYmasiQIR6954QJEzR+/Hjn8/z8fDVq1EgxMTGKiIioqtI94nA4ZLPZFBMTU+EmKPYrdj5uEt9EsbGx1VUeLMqTvgEkegeeoW/gCfoGnvJ27wQHB1foPFND0sMPP6zHHnvMuWyuXbt2+umnn5Senq4hQ4YoPj5ekpSdna2EhATn92VnZ+vyyy8v9z2DgoIUFBRU5rjdbrfEP7Q2m61StbhekxQdGm2JzwDvq2zfAKXoHXiCvoEn6Bt4ypu9U9GfYWoXnz59ukyhfn5+zrWCycnJio+P17p165yv5+fna+vWrUpJSfFqrWZh4wYAAADAu0ydJPXu3VtPPvmkGjdurDZt2uizzz7TP//5T919992SzqfKsWPHaubMmWrevLmSk5M1adIkJSYmqm/fvmaW7jVu90liC3AAAACg2pkakp599llNmjRJ999/v3JycpSYmKh7771XkydPdp7zyCOP6NSpUxoxYoRyc3PVvXt3vffeexVeT+jrSidJAfYAhfiHmFsMAAAAUAuYGpLCw8M1d+5czZ0796Ln2Gw2TZ8+XdOnT/deYRZSejPZqJAo2Ww2k6sBAAAAaj6urLO40uV2UcEstQMAAAC8gZBkYSWOEuUXnb8ZLps2AAAAAN5BSLKwvKI852M2bQAAAAC8g5BkYWz/DQAAAHgfIcnCSjdtkLgmCQAAAPAWQpKFud0jiZAEAAAAeAUhycJYbgcAAAB4HyHJwtyW27FxAwAAAOAVhCQLY5IEAAAAeB8hycK4JgkAAADwPkKShbHcDgAAAPA+QpKF5RblOh+z3A4AAADwDkKShXGfJAAAAMD7CEkW5rpxQ0RQhHmFAAAAALUIIcnCSjduqBtUV352P5OrAQAAAGoHQpKFlS63Y9MGAAAAwHsISRZlGIZzuR2bNgAAAADeQ0iyqNPFp1XsKJbEpg0AAACANxGSLMp10wYmSQAAAID3EJIsqnTTBolJEgAAAOBNhCSLcrtHEhs3AAAAAF5DSLIoltsBAAAA5iAkWRTL7QAAAABzEJIsikkSAAAAYA5CkkVxTRIAAABgDkKSRbHcDgAAADAHIcmiWG4HAAAAmIOQZFFukySW2wEAAABeQ0iyKCZJAAAAgDkISRZVunFDsH+wgv2DTa4GAAAAqD0ISRZVutyOTRsAAAAA7yIkWVTpcjuW2gEAAADeRUiyoOKSYp08e1ISmzYAAAAA3kZIsqC8ojznYyZJAAAAgHcRkiyodNMGiWuSAAAAAG8jJFmQ2z2SCEkAAACAVxGSLIh7JAEAAADmISRZkNtyOzZuAAAAALyKkGRBTJIAAAAA8xCSLIhrkgAAAADzEJIsiOV2AAAAgHkISRbEcjsAAADAPIQkC2K5HQAAAGAeQpIFMUkCAAAAzONfmZMdDoc2bNigTz75RD/99JNOnz6tmJgYdejQQampqWrUqFF11VmrlE6S7Da7woPCTa4GAAAAqF0qNEk6c+aMZs6cqUaNGunmm2/WmjVrlJubKz8/P3333XeaMmWKkpOTdfPNN2vLli3VXXONV7pxQ2RwpOw2hn0AAACAN1VoknTppZcqJSVFL774om644QYFBASUOeenn37S0qVLNXDgQD3++OO65557qrzY2qJ0uR1L7QAAAADvq1BI+uCDD9SqVavfPCcpKUkTJkzQQw89pMzMzCoprjYyDMMZkti0AQAAAPC+Cq3l+r2A5CogIEDNmjXzuKDa7uTZkyoxSiQxSQIAAADMUKmNG1ydO3dOL7zwgtavX6+SkhJ169ZNI0eOVHBwcFXWV+u4bf/NjWQBAAAAr/M4JD3wwAP69ttvdeutt6q4uFivvvqqduzYoWXLllVlfbVO6aYNEsvtAAAAADNUOCStWrVK/fr1cz7/4IMPtG/fPvn5+UmS0tLS1LVr16qvsJbhHkkAAACAuSq8v/TLL7+svn376tChQ5KkK664Qvfdd5/ee+89vfvuu3rkkUfUuXPnaiu0tnBbbsckCQAAAPC6Coekd999V4MGDdJ1112nZ599VosWLVJERIQef/xxTZo0SY0aNdLSpUurs9ZagUkSAAAAYK5KXZN0xx13KC0tTY888ojS0tK0cOFCPf3009VVW63kdk0SGzcAAAAAXlfhSVKpyMhILVq0SH//+99111136eGHH1ZhYWF11FYrsdwOAAAAMFeFQ1JmZqYGDBigdu3aafDgwWrevLl27typ0NBQXXbZZVqzZk111llrsNwOAAAAMFeFQ9Jdd90lu92uv//974qNjdW9996rwMBATZs2TatXr1Z6eroGDBhQnbXWCtwnCQAAADBXha9J2rFjh3bv3q1mzZopLS1NycnJztdatWqljRs3atGiRdVSZG3CJAkAAAAwV4VDUseOHTV58mQNGTJEH374odq1a1fmnBEjRlRpcbURN5MFAAAAzFXh5XavvvqqioqKNG7cOB08eFAvvPBCddZVa5UutwsLCFOAX4DJ1QAAAAC1T4UnSUlJSXrrrbeqsxbo1+V2LLUDAAAAzFGhSdKpU6cq9aYVPb9Jkyay2WxlvkaOHClJKiws1MiRIxUdHa06deqof//+ys7OrlQtvqZ0uR2bNgAAAADmqFBIuuSSSzRr1iwdPnz4oucYhqG1a9eqZ8+emjdvXoV++Pbt23X48GHn19q1ayVJt99+uyRp3Lhxevfdd7VixQpt2LBBhw4d0q233lqh9/ZFReeKdObcGUlMkgAAAACzVGi53fr16zVx4kRNnTpVl112mTp16qTExEQFBwfrxIkT2rt3rzZv3ix/f39NmDBB9957b4V+eExMjNvzWbNmqVmzZrr22muVl5enxYsXa+nSpbr++uslSUuWLFGrVq20ZcsWde3atZIf1fpcd7Zj0wYAAADAHBUKSS1atNDbb7+tzMxMrVixQp988on+97//6cyZM6pfv746dOigF198UT179pSfn59HhZw9e1avv/66xo8fL5vNpp07d6q4uFipqanOc1q2bKnGjRtr8+bNFw1JRUVFKioqcj7Pz8+XJDkcDjkcDo9qqyoOh0OGYVy0jmOnjzkfRwZHml4vrOH3+ga4GHoHnqBv4An6Bp7ydu9U9OdUeOMGSWrcuLEefPBBPfjggx4V9VtWr16t3NxcDR06VJKUlZWlwMBARUZGup0XFxenrKysi75Penq6pk2bVub4kSNHVFhYWJUlV5rD4VBeXp4Mw5DdXnal44HsA87HgY5A5eTkeLM8WNTv9Q1wMfQOPEHfwBP0DTzl7d4pKCio0HmVCknVafHixerZs6cSExP/0PtMmDBB48ePdz7Pz89Xo0aNFBMTo4iIiD9a5h/icDhks9kUExNTfhPk//qwQb0Gio2N9V5xsKzf7RvgIugdeIK+gSfoG3jK270THBxcofMsEZJ++uknffjhh1q5cqXzWHx8vM6ePavc3Fy3aVJ2drbi4+Mv+l5BQUEKCgoqc9xut1viH1qbzXbRWvKLfk1JUSFRlqgX1vBbfQP8FnoHnqBv4An6Bp7yZu9U9GdYoouXLFmi2NhY9erVy3msY8eOCggI0Lp165zH9u3bp8zMTKWkpJhRZrUrvZGsxMYNAAAAgFlMnyQ5HA4tWbJEQ4YMkb//r+XUrVtXw4cP1/jx41WvXj1FRERo9OjRSklJqZE720m/3iNJ4j5JAAAAgFlMD0kffvihMjMzdffdd5d57ZlnnpHdblf//v1VVFSktLQ0Pf/88yZU6R2uW4BznyQAAADAHJVebtekSRNNnz5dmZmZVVLAjTfeKMMwdOmll5Z5LTg4WPPnz9fx48d16tQprVy58jevR/J1LLcDAAAAzFfpkDR27FitXLlSTZs21Q033KDly5e73ZcInmOSBAAAAJjPo5D0+eefa9u2bWrVqpVGjx6thIQEjRo1Srt27aqOGmsNt0kS1yQBAAAApvB4d7srrrhC8+bN06FDhzRlyhS99NJL6ty5sy6//HK9/PLLMgyjKuusFUo3bvC3+yssIMzkagAAAIDayeONG4qLi7Vq1SotWbJEa9euVdeuXTV8+HD98ssvmjhxoj788EMtXbq0Kmut8UqX20UGR8pms5lbDAAAAFBLVTok7dq1S0uWLNGyZctkt9t111136ZlnnlHLli2d5/Tr10+dO3eu0kJrg9LldmzaAAAAAJin0iGpc+fOuuGGG7RgwQL17dtXAQEBZc5JTk7WwIEDq6TA2sJhOJRXmCeJTRsAAAAAM1U6JP3www9KSkr6zXPCwsK0ZMkSj4uqjfKL8mXo/HVcbNoAAAAAmKfSGzfk5ORo69atZY5v3bpVO3bsqJKiaqPSTRskltsBAAAAZqp0SBo5cqR+/vnnMscPHjyokSNHVklRtRH3SAIAAACsodIhae/evbriiivKHO/QoYP27t1bJUXVRm73SGKSBAAAAJim0iEpKChI2dnZZY4fPnxY/v4e7yhe6zFJAgAAAKyh0iHpxhtv1IQJE5SXl+c8lpubq4kTJ+qGG26o0uJqE7drkti4AQAAADBNpUc///jHP3TNNdcoKSlJHTp0kCR9/vnniouL02uvvVblBdYWLLcDAAAArKHSIalBgwb64osvlJGRod27dyskJETDhg3ToEGDyr1nEiqG5XYAAACANXh0EVFYWJhGjBhR1bXUaiy3AwAAAKzB450W9u7dq8zMTJ09e9bt+J///Oc/XFRtlFuU63zMJAkAAAAwT6VD0g8//KB+/fppz549stlsMgxDkmSz2SRJJSUlVVthLcHNZAEAAABrqPTudmPGjFFycrJycnIUGhqqr776Shs3blSnTp20fv36aiixdnDduKFucF0TKwEAAABqt0pPkjZv3qyPPvpI9evXl91ul91uV/fu3ZWenq4HHnhAn332WXXUWeOVbtwQHhgufzv3mwIAAADMUulJUklJicLDwyVJ9evX16FDhyRJSUlJ2rdvX9VWV4uULrdj0wYAAADAXJUeWbRt21a7d+9WcnKyunTpojlz5igwMFCLFi1S06ZNq6PGWqF0ksSmDQAAAIC5Kh2SnnjiCZ06dUqSNH36dN1yyy26+uqrFR0drTfeeKPKC6wNzhSfUVFJkSQ2bQAAAADMVumQlJaW5nx8ySWX6JtvvtHx48cVFRXl3OEOleO6aQPL7QAAAABzVeqapOLiYvn7++vLL790O16vXj0C0h+QX5TvfBwRFGFiJQAAAAAqFZICAgLUuHFj7oVUxc4Un3E+DvUPNbESAAAAAJXe3e7xxx/XxIkTdfz48eqop1Y6c+7XkBQSEGJiJQAAAAAqfU3Sc889p++++06JiYlKSkpSWFiY2+u7du2qsuJqC9dJUog/IQkAAAAwU6VDUt++fauhjNqNSRIAAABgHZUOSVOmTKmOOmo1JkkAAACAdVT6miRUPSZJAAAAgHVUepJkt9t/c7tvdr6rPCZJAAAAgHVUOiStWrXK7XlxcbE+++wz/etf/9K0adOqrLDahEkSAAAAYB2VDkl9+vQpc+y2225TmzZt9MYbb2j48OFVUlhtwiQJAAAAsI4quyapa9euWrduXVW9Xa3CJAkAAACwjioJSWfOnNG8efPUoEGDqni7WodJEgAAAGAdlV5uFxUV5bZxg2EYKigoUGhoqF5//fUqLa62YJIEAAAAWEelQ9IzzzzjFpLsdrtiYmLUpUsXRUVFVWlxtQWTJAAAAMA6Kh2Shg4dWg1l1G6nz512PmaSBAAAAJir0tckLVmyRCtWrChzfMWKFfrXv/5VJUXVNkySAAAAAOuodEhKT09X/fr1yxyPjY3VU089VSVF1TZckwQAAABYR6VDUmZmppKTk8scT0pKUmZmZpUUVdswSQIAAACso9IhKTY2Vl988UWZ47t371Z0dHSVFFXblE6SbLIp0C/Q5GoAAACA2q3SIWnQoEF64IEH9PHHH6ukpEQlJSX66KOPNGbMGA0cOLA6aqzxSidJIQEhbjsHAgAAAPC+Su9uN2PGDP3444/q0aOH/P3Pf7vD4dBdd93FNUkeKp0khQaEmlwJAAAAgEqHpMDAQL3xxhuaOXOmPv/8c4WEhKhdu3ZKSkqqjvpqBeckieuRAAAAANNVOiSVat68uZo3b16VtdRapZMkdrYDAAAAzFfpa5L69++v2bNnlzk+Z84c3X777VVSVG3DJAkAAACwjkqHpI0bN+rmm28uc7xnz57auHFjlRRVmzgMh4pKiiQxSQIAAACsoNIh6eTJkwoMLLtNdUBAgPLz86ukqNqk8Fyh8zGTJAAAAMB8lQ5J7dq10xtvvFHm+PLly9W6desqKao2cbuRLJMkAAAAwHSV3rhh0qRJuvXWW/X999/r+uuvlyStW7dOy5Yt04oVK6q8wJqudNMGiUkSAAAAYAWVDkm9e/fW6tWr9dRTT+mtt95SSEiI2rdvrw8//FDXXnttddRYozFJAgAAAKzFoy3Ae/XqpV69epU5/uWXX6pt27Z/uKjahEkSAAAAYC2VvibpQgUFBVq0aJGuvPJKXXbZZVVRU63iNkkiJAEAAACm8zgkbdy4UXfddZcSEhL0j3/8Q9dff722bNlSlbXVCm6TJJbbAQAAAKar1HK7rKwsvfLKK1q8eLHy8/M1YMAAFRUVafXq1exs5yEmSQAAAIC1VHiS1Lt3b7Vo0UJffPGF5s6dq0OHDunZZ5+tztpqBSZJAAAAgLVUeJK0Zs0aPfDAA/rb3/6m5s2bV2dNtQqTJAAAAMBaKjxJ2rRpkwoKCtSxY0d16dJFzz33nI4ePVqdtdUKTJIAAAAAa6lwSOratatefPFFHT58WPfee6+WL1+uxMREORwOrV27VgUFBdVZZ411uvi08zGTJAAAAMB8ld7dLiwsTHfffbc2bdqkPXv26MEHH9SsWbMUGxurP//5z9VRY43GzWQBAAAAa/lD90lq0aKF5syZo19++UXLli2rqppqFW4mCwAAAFjLH76ZrCT5+fmpb9++eueddyr9vQcPHtSdd96p6OhohYSEqF27dtqxY4fzdcMwNHnyZCUkJCgkJESpqanav39/VZRtCUySAAAAAGupkpDkqRMnTqhbt24KCAjQmjVrtHfvXj399NOKiopynjNnzhzNmzdPCxcu1NatWxUWFqa0tDQVFhaaWHnVYZIEAAAAWEulbiZb1WbPnq1GjRppyZIlzmPJycnOx4ZhaO7cuXriiSfUp08fSdKrr76quLg4rV69WgMHDvR6zVWNSRIAAABgLaaGpHfeeUdpaWm6/fbbtWHDBjVo0ED333+/7rnnHknSgQMHlJWVpdTUVOf31K1bV126dNHmzZvLDUlFRUUqKipyPs/Pz5ckORwOORyOav5Ev83hcMgwDLc6XHe3C7IHmV4jrKe8vgEqgt6BJ+gbeIK+gae83TsV/TmmhqQffvhBCxYs0Pjx4zVx4kRt375dDzzwgAIDAzVkyBBlZWVJkuLi4ty+Ly4uzvnahdLT0zVt2rQyx48cOWL6Ej2Hw6G8vDwZhiG7/fxKx9xTuc7XT+WdUk5JjknVwarK6xugIugdeIK+gSfoG3jK271T0dsWmRqSHA6HOnXqpKeeekqS1KFDB3355ZdauHChhgwZ4tF7TpgwQePHj3c+z8/PV6NGjRQTE6OIiIgqqdtTDodDNptNMTExziZw+P2aZhsnNFa9kHpmlQeLKq9vgIqgd+AJ+gaeoG/gKW/3TnBwcIXOMzUkJSQkqHXr1m7HWrVqpbfffluSFB8fL0nKzs5WQkKC85zs7Gxdfvnl5b5nUFCQgoKCyhy32+2W+IfWZrO51VJ47tfpVlhgmCVqhPVc2DdARdE78AR9A0/QN/CUN3unoj/D1C7u1q2b9u3b53bs22+/VVJSkqTzmzjEx8dr3bp1ztfz8/O1detWpaSkeLXW6uK6cUOwf8WSLQAAAIDqY+okady4cbrqqqv01FNPacCAAdq2bZsWLVqkRYsWSTqfKseOHauZM2eqefPmSk5O1qRJk5SYmKi+ffuaWXqVKd0CPNg/WDabzeRqAAAAAJgakjp37qxVq1ZpwoQJmj59upKTkzV37lwNHjzYec4jjzyiU6dOacSIEcrNzVX37t313nvvVXg9odWVTpK4RxIAAABgDaaGJEm65ZZbdMstt1z0dZvNpunTp2v69OlerMp7SidJ3CMJAAAAsAaurDMZkyQAAADAWghJJmOSBAAAAFgLIclEhmEwSQIAAAAshpBkorMlZ2XIkMQkCQAAALAKQpKJSpfaSUySAAAAAKsgJJnI9UayTJIAAAAAayAkmYhJEgAAAGA9hCQTuU2SCEkAAACAJRCSTOQ2SWK5HQAAAGAJhCQTnS4+7XzMJAkAAACwBkKSidi4AQAAALAeQpKJ2LgBAAAAsB5CkomYJAEAAADWQ0gyEZMkAAAAwHoISSZikgQAAABYDyHJREySAAAAAOshJJmISRIAAABgPYQkEzFJAgAAAKyHkGQiJkkAAACA9RCSTOQ6SQoNCDWxEgAAAAClCEkmYrkdAAAAYD2EJBOx3A4AAACwHkKSiZgkAQAAANZDSDIRkyQAAADAeghJJmKSBAAAAFgPIclEpZOkAHuA/Ox+JlcDAAAAQCIkmap0ksRSOwAAAMA6CEkmKp0ksdQOAAAAsA5CkomYJAEAAADWQ0gyEZMkAAAAwHoISSZikgQAAABYDyHJJMUlxTrnOCeJSRIAAABgJYQkk7jdI4lJEgAAAGAZhCSTlF6PJDFJAgAAAKyEkGQSJkkAAACANRGSTMIkCQAAALAmQpJJ3CZJhCQAAADAMghJJnGbJLHcDgAAALAMQpJJmCQBAAAA1kRIMgmTJAAAAMCaCEkmYZIEAAAAWBMhySRMkgAAAABrIiSZhEkSAAAAYE2EJJO4TpJCA0JNrAQAAACAK0KSSdwmSSy3AwAAACyDkGQSt2uSWG4HAAAAWAYhySRMkgAAAABrIiSZhEkSAAAAYE2EJJMwSQIAAACsiZBkErYABwAAAKyJkGQSbiYLAAAAWBMhySRMkgAAAABrIiSZhEkSAAAAYE2EJJOUTpLsNrsC7AEmVwMAAACgFCHJJKeLT0s6v9TOZrOZXA0AAACAUoQkk5Qut2OpHQAAAGAthCSTlC63Y9MGAAAAwFoISSZhkgQAAABYEyHJJEySAAAAAGsiJJmgxFGisyVnJTFJAgAAAKyGkGSCwnOFzsdMkgAAAABrISSZoHSpncQkCQAAALAaQpIJSjdtkJgkAQAAAFZjakiaOnWqbDab21fLli2drxcWFmrkyJGKjo5WnTp11L9/f2VnZ5tYcdVgkgQAAABYl+mTpDZt2ujw4cPOr02bNjlfGzdunN59912tWLFCGzZs0KFDh3TrrbeaWG3VYJIEAAAAWJe/6QX4+ys+Pr7M8by8PC1evFhLly7V9ddfL0lasmSJWrVqpS1btqhr167lvl9RUZGKioqcz/Pz8yVJDodDDoejGj5BxTkcDhmGoVPFp5zHgv2DTa8L1lbaN/QJKovegSfoG3iCvoGnvN07Ff05poek/fv3KzExUcHBwUpJSVF6eroaN26snTt3qri4WKmpqc5zW7ZsqcaNG2vz5s0XDUnp6emaNm1ameNHjhxRYWFhOd/hPQ6HQ3l5eTp86rDzmHHWUE5OjolVwepK+8YwDNntpg9/4UPoHXiCvoEn6Bt4ytu9U1BQUKHzTA1JXbp00SuvvKIWLVro8OHDmjZtmq6++mp9+eWXysrKUmBgoCIjI92+Jy4uTllZWRd9zwkTJmj8+PHO5/n5+WrUqJFiYmIUERFRXR+lQhwOh2w2m4Jtwc5j9evWV2xsrIlVwepK+yYmJob/8KBS6B14gr6BJ+gbeMrbvRMcHPz7J8nkkNSzZ0/n4/bt26tLly5KSkrSm2++qZAQz67VCQoKUlBQUJnjdrvdEv/Q2mw2FZb8OtEKDQi1RF2wNpvNZpkehm+hd+AJ+gaeoG/gKW/2TkV/hqW6ODIyUpdeeqm+++47xcfH6+zZs8rNzXU7Jzs7u9xrmHyJ28YN7G4HAAAAWIqlQtLJkyf1/fffKyEhQR07dlRAQIDWrVvnfH3fvn3KzMxUSkqKiVX+cW5bgLO7HQAAAGAppi63e+ihh9S7d28lJSXp0KFDmjJlivz8/DRo0CDVrVtXw4cP1/jx41WvXj1FRERo9OjRSklJueimDb6i8Nyvy+2YJAEAAADWYmpI+uWXXzRo0CAdO3ZMMTEx6t69u7Zs2aKYmBhJ0jPPPCO73a7+/furqKhIaWlpev75580suUpwnyQAAADAukwNScuXL//N14ODgzV//nzNnz/fSxV5h9tyOyZJAAAAgKVY6pqk2oJJEgAAAGBdhCQTMEkCAAAArIuQZILTxaedj5kkAQAAANZCSDIBkyQAAADAughJJuCaJAAAAMC6CEkmYJIEAAAAWBchyQRuN5NlkgQAAABYCiHJBK7L7YL9g02sBAAAAMCFCEkmKF1uF+wfLJvNZnI1AAAAAFwRkkxQGpJYagcAAABYDyHJBKXL7di0AQAAALAeQpIJmCQBAAAA1kVIMgGTJAAAAMC6CEleZhgGkyQAAADAwghJXlZUUuR8zCQJAAAAsB5CkpcVlnAjWQAAAMDKCEleVnjOJSQxSQIAAAAsh5DkZa4hKTQg1MRKAAAAAJSHkORlLLcDAAAArI2Q5GVuy+0ISQAAAIDlEJK8rHT7b4lrkgAAAAArIiR5GcvtAAAAAGsjJHkZu9sBAAAA1kZI8jImSQAAAIC1EZK8jEkSAAAAYG2EJC9z27iBSRIAAABgOYQkL2OSBAAAAFgbIcnLuCYJAAAAsDZCkpdxnyQAAADA2ghJXua23I5JEgAAAGA5hCQvc1tuxyQJAAAAsBxCkpcxSQIAAACsjZDkZUySAAAAAGsjJHkZkyQAAADA2ghJXsZ9kgAAAABrIyR5GfdJAgAAAKyNkORlpZOkAHuA/Ox+JlcDAAAA4EKEJC87U3L+ZrIstQMAAACsiZDkZaWTJJbaAQAAANZESPIyZ0hikgQAAABYEiHJy0o3bmCSBAAAAFgTIcnLSidJoQGhJlcCAAAAoDyEJC8qLilWiVEiieV2AAAAgFURkrzozLkzzscstwMAAACsiZDkRWeKXUISkyQAAADAkghJXsQkCQAAALA+QpIXMUkCAAAArI+Q5EWnz512PmaSBAAAAFgTIcmL3CZJhCQAAADAkghJXuR2TRLL7QAAAABLIiR5EZMkAAAAwPoISV7EJAkAAACwPkKSF7EFOAAAAGB9hCQvYgtwAAAAwPoISV5UeK7Q+ZhJEgAAAGBNhCQvYpIEAAAAWB8hyYu4JgkAAACwPkKSF7G7HQAAAGB9hCQv4j5JAAAAgPURkryISRIAAABgfYQkL2KSBAAAAFgfIcmLmCQBAAAA1meZkDRr1izZbDaNHTvWeaywsFAjR45UdHS06tSpo/79+ys7O9u8Iv8gdrcDAAAArM8SIWn79u164YUX1L59e7fj48aN07vvvqsVK1Zow4YNOnTokG699VaTqvzjCotdbibLJAkAAACwJH+zCzh58qQGDx6sF198UTNnznQez8vL0+LFi7V06VJdf/31kqQlS5aoVatW2rJli7p27Vru+xUVFamoqMj5PD8/X5LkcDjkcDiq8ZP8vtPFpyVJdptdfvIzvR74BofDIcMw6BdUGr0DT9A38AR9A095u3cq+nNMD0kjR45Ur169lJqa6haSdu7cqeLiYqWmpjqPtWzZUo0bN9bmzZsvGpLS09M1bdq0MsePHDmiwsLCcr7De04WnpR0fqndkSNHTK0FvsPhcCgvL0+GYchut8TwFz6C3oEn6Bt4gr6Bp7zdOwUFBRU6z9SQtHz5cu3atUvbt28v81pWVpYCAwMVGRnpdjwuLk5ZWVkXfc8JEyZo/Pjxzuf5+flq1KiRYmJiFBERUWW1e6JYxZKk0IBQxcbGmloLfIfD4ZDNZlNMTAz/4UGl0DvwBH0DT9A38JS3eyc4OLhC55kWkn7++WeNGTNGa9eurXCxFREUFKSgoKAyx+12u+n/0JZu3BASEGJ6LfAtNpvNEj0M30PvwBP0DTxB38BT3uydiv4M07p4586dysnJ0RVXXCF/f3/5+/trw4YNmjdvnvz9/RUXF6ezZ88qNzfX7fuys7MVHx9vTtF/UOl9ktjZDgAAALAu0yZJPXr00J49e9yODRs2TC1bttSjjz6qRo0aKSAgQOvWrVP//v0lSfv27VNmZqZSUlLMKPkPc06SCEkAAACAZZkWksLDw9W2bVu3Y2FhYYqOjnYeHz58uMaPH6969eopIiJCo0ePVkpKykU3bbCyEkeJzpaclcT23wAAAICVmb673W955plnZLfb1b9/fxUVFSktLU3PP/+82WV5hBvJAgAAAL7BUiFp/fr1bs+Dg4M1f/58zZ8/35yCqlDp9UiSFBxQdRtVAAAAAKhabD/iJUySAAAAAN9ASPIS10kSIQkAAACwLkKSl7hNkti4AQAAALAsQpKXMEkCAAAAfAMhyUu4JgkAAADwDYQkL3GbJLHcDgAAALAsS20BXpPd0OwGHRp3SL9k/6ImCU3MLgcAAADARRCSvCTQL1BxdeJkO21TdGi02eUAAAAAuAiW2wEAAACAC0ISAAAAALggJAEAAACAC0ISAAAAALggJAEAAACAC0ISAAAAALggJAEAAACAC0ISAAAAALggJAEAAACAC0ISAAAAALggJAEAAACAC0ISAAAAALggJAEAAACAC0ISAAAAALggJAEAAACAC0ISAAAAALggJAEAAACAC3+zC6huhmFIkvLz802uRHI4HCooKFBwcLDsdvIpKoa+gafoHXiCvoEn6Bt4ytu9U5oJSjPCxdT4kFRQUCBJatSokcmVAAAAALCCgoIC1a1b96Kv24zfi1E+zuFw6NChQwoPD5fNZjO1lvz8fDVq1Eg///yzIiIiTK0FvoO+gafoHXiCvoEn6Bt4ytu9YxiGCgoKlJiY+JuTqxo/SbLb7WrYsKHZZbiJiIjgXyCoNPoGnqJ34An6Bp6gb+Apb/bOb02QSrFoFAAAAABcEJIAAAAAwAUhyYuCgoI0ZcoUBQUFmV0KfAh9A0/RO/AEfQNP0DfwlFV7p8Zv3AAAAAAAlcEkCQAAAABcEJIAAAAAwAUhCQAAAABcEJIAAAAAwAUhyYvmz5+vJk2aKDg4WF26dNG2bdvMLgkWkp6ers6dOys8PFyxsbHq27ev9u3b53ZOYWGhRo4cqejoaNWpU0f9+/dXdna2SRXDimbNmiWbzaaxY8c6j9E3KM/Bgwd15513Kjo6WiEhIWrXrp127NjhfN0wDE2ePFkJCQkKCQlRamqq9u/fb2LFsIKSkhJNmjRJycnJCgkJUbNmzTRjxgy57gNG72Djxo3q3bu3EhMTZbPZtHr1arfXK9Ijx48f1+DBgxUREaHIyEgNHz5cJ0+e9NpnICR5yRtvvKHx48drypQp2rVrly677DKlpaUpJyfH7NJgERs2bNDIkSO1ZcsWrV27VsXFxbrxxht16tQp5znjxo3Tu+++qxUrVmjDhg06dOiQbr31VhOrhpVs375dL7zwgtq3b+92nL7BhU6cOKFu3bopICBAa9as0d69e/X0008rKirKec6cOXM0b948LVy4UFu3blVYWJjS0tJUWFhoYuUw2+zZs7VgwQI999xz+vrrrzV79mzNmTNHzz77rPMcegenTp3SZZddpvnz55f7ekV6ZPDgwfrqq6+0du1a/ec//9HGjRs1YsQIb30EyYBXXHnllcbIkSOdz0tKSozExEQjPT3dxKpgZTk5OYYkY8OGDYZhGEZubq4REBBgrFixwnnO119/bUgyNm/ebFaZsIiCggKjefPmxtq1a41rr73WGDNmjGEY9A3K9+ijjxrdu3e/6OsOh8OIj483/v73vzuP5ebmGkFBQcayZcu8USIsqlevXsbdd9/tduzWW281Bg8ebBgGvYOyJBmrVq1yPq9Ij+zdu9eQZGzfvt15zpo1awybzWYcPHjQK3UzSfKCs2fPaufOnUpNTXUes9vtSk1N1ebNm02sDFaWl5cnSapXr54kaefOnSouLnbro5YtW6px48b0ETRy5Ej16tXLrT8k+gble+edd9SpUyfdfvvtio2NVYcOHfTiiy86Xz9w4ICysrLc+qZu3brq0qULfVPLXXXVVVq3bp2+/fZbSdLu3bu1adMm9ezZUxK9g99XkR7ZvHmzIiMj1alTJ+c5qampstvt2rp1q1fq9PfKT6nljh49qpKSEsXFxbkdj4uL0zfffGNSVbAyh8OhsWPHqlu3bmrbtq0kKSsrS4GBgYqMjHQ7Ny4uTllZWSZUCatYvny5du3ape3bt5d5jb5BeX744QctWLBA48eP18SJE7V9+3Y98MADCgwM1JAhQ5y9Ud5/t+ib2u2xxx5Tfn6+WrZsKT8/P5WUlOjJJ5/U4MGDJYnewe+qSI9kZWUpNjbW7XV/f3/Vq1fPa31ESAIsaOTIkfryyy+1adMms0uBxf38888aM2aM1q5dq+DgYLPLgY9wOBzq1KmTnnrqKUlShw4d9OWXX2rhwoUaMmSIydXByt58801lZGRo6dKlatOmjT7//HONHTtWiYmJ9A5qFJbbeUH9+vXl5+dXZjep7OxsxcfHm1QVrGrUqFH6z3/+o48//lgNGzZ0Ho+Pj9fZs2eVm5vrdj59VLvt3LlTOTk5uuKKK+Tv7y9/f39t2LBB8+bNk7+/v+Li4ugblJGQkKDWrVu7HWvVqpUyMzMlydkb/HcLF3r44Yf12GOPaeDAgWrXrp3+8pe/aNy4cUpPT5dE7+D3VaRH4uPjy2xudu7cOR0/ftxrfURI8oLAwEB17NhR69atcx5zOBxat26dUlJSTKwMVmIYhkaNGqVVq1bpo48+UnJystvrHTt2VEBAgFsf7du3T5mZmfRRLdajRw/t2bNHn3/+ufOrU6dOGjx4sPMxfYMLdevWrcwtBr799lslJSVJkpKTkxUfH+/WN/n5+dq6dSt9U8udPn1adrv7Xx/9/PzkcDgk0Tv4fRXpkZSUFOXm5mrnzp3Ocz766CM5HA516dLFO4V6ZXsIGMuXLzeCgoKMV155xdi7d68xYsQIIzIy0sjKyjK7NFjE3/72N6Nu3brG+vXrjcOHDzu/Tp8+7TznvvvuMxo3bmx89NFHxo4dO4yUlBQjJSXFxKphRa672xkGfYOytm3bZvj7+xtPPvmksX//fiMjI8MIDQ01Xn/9dec5s2bNMiIjI41///vfxhdffGH06dPHSE5ONs6cOWNi5TDbkCFDjAYNGhj/+c9/jAMHDhgrV6406tevbzzyyCPOc+gdFBQUGJ999pnx2WefGZKMf/7zn8Znn31m/PTTT4ZhVKxHbrrpJqNDhw7G1q1bjU2bNhnNmzc3Bg0a5LXPQEjyomeffdZo3LixERgYaFx55ZXGli1bzC4JFiKp3K8lS5Y4zzlz5oxx//33G1FRUUZoaKjRr18/4/Dhw+YVDUu6MCTRNyjPu+++a7Rt29YICgoyWrZsaSxatMjtdYfDYUyaNMmIi4szgoKCjB49ehj79u0zqVpYRX5+vjFmzBijcePGRnBwsNG0aVPj8ccfN4qKipzn0Dv4+OOPy/07zZAhQwzDqFiPHDt2zBg0aJBRp04dIyIiwhg2bJhRUFDgtc9gMwyXWyQDAAAAQC3HNUkAAAAA4IKQBAAAAAAuCEkAAAAA4IKQBAAAAAAuCEkAAAAA4IKQBAAAAAAuCEkAAAAA4IKQBAAAAAAuCEkAAPwGm82m1atXm10GAMCLCEkAAMsaOnSobDZbma+bbrrJ7NIAADWYv9kFAADwW2666SYtWbLE7VhQUJBJ1QAAagMmSQAASwsKClJ8fLzbV1RUlKTzS+EWLFignj17KiQkRE2bNtVbb73l9v179uzR9ddfr5CQEEVHR2vEiBE6efKk2zkvv/yy2rRpo6CgICUkJGjUqFFurx89elT9+vVTaGiomjdvrnfeead6PzQAwFSEJACAT5s0aZL69++v3bt3a/DgwRo4cKC+/vprSdKpU6eUlpamqKgobd++XStWrNCHH37oFoIWLFigkSNHasSIEdqzZ4/eeecdXXLJJW4/Y9q0aRowYIC++OIL3XzzzRo8eLCOHz/u1c8JAPAem2EYhtlFAABQnqFDh+r1119XcHCw2/GJEydq4sSJstlsuu+++7RgwQLna127dtUVV1yh559/Xi+++KIeffRR/fzzzwoLC5Mk/X//3/+n3r1769ChQ4qLi1ODBg00bNgwzZw5s9wabDabnnjiCc2YMUPS+eBVp04drVmzhmujAKCG4pokAICl/elPf3ILQZJUr1495+OUlBS311JSUvT5559Lkr7++mtddtllzoAkSd26dZPD4dC+fftks9l06NAh9ejR4zdraN++vfNxWFiYIiIilJOT4+lHAgBYHCEJAGBpYWFhZZa/VZWQkJAKnRcQEOD23GazyeFwVEdJAAAL4JokAIBP27JlS5nnrVq1kiS1atVKu3fv1qlTp5yvf/rpp7Lb7WrRooXCw8PVpEkTrVu3zqs1AwCsjUkSAMDSioqKlJWV5XbM399f9evXlyStWLFCnTp1Uvfu3ZWRkaFt27Zp8eLFkqTBgwdrypQpGjJkiKZOnaojR45o9OjR+stf/qK4uDhJ0tSpU3XfffcpNjZWPXv2VEFBgT799FONHj3aux8UAGAZhCQAgKW99957SkhIcDvWokULffPNN5LO7zy3fPly3X///UpISNCyZcvUunVrSVJoaKjef/99jRkzRp07d1ZoaKj69++vf/7zn873GjJkiAoLC/XMM8/ooYceUv369XXbbbd57wMCACyH3e0AAD7LZrNp1apV6tu3r9mlAABqEK5JAgAAAAAXhCQAAAAAcME1SQAAn8WKcQBAdWCSBAAAAAAuCEkAAAAA4IKQBAAAAAAuCEkAAAAA4IKQBAAAAAAuCEkAAAAA4IKQBAAAAAAuCEkAAAAA4OL/B3fxPYz6ResWAAAAAElFTkSuQmCC\n",
          "text/plain": "<Figure size 1000x600 with 1 Axes>"
         },
         "metadata": {},
         "output_type": "display_data"
        }
       ],
       "tabbable": null,
       "tooltip": null
      }
     },
     "b3c5da69cb394c8aa3d1b5c09c9992a9": {
      "model_module": "@jupyter-widgets/base",
      "model_module_version": "2.0.0",
      "model_name": "LayoutModel",
      "state": {
       "_model_module": "@jupyter-widgets/base",
       "_model_module_version": "2.0.0",
       "_model_name": "LayoutModel",
       "_view_count": null,
       "_view_module": "@jupyter-widgets/base",
       "_view_module_version": "2.0.0",
       "_view_name": "LayoutView",
       "align_content": null,
       "align_items": null,
       "align_self": null,
       "border_bottom": null,
       "border_left": null,
       "border_right": null,
       "border_top": null,
       "bottom": null,
       "display": null,
       "flex": null,
       "flex_flow": null,
       "grid_area": null,
       "grid_auto_columns": null,
       "grid_auto_flow": null,
       "grid_auto_rows": null,
       "grid_column": null,
       "grid_gap": null,
       "grid_row": null,
       "grid_template_areas": null,
       "grid_template_columns": null,
       "grid_template_rows": null,
       "height": null,
       "justify_content": null,
       "justify_items": null,
       "left": null,
       "margin": null,
       "max_height": null,
       "max_width": null,
       "min_height": null,
       "min_width": null,
       "object_fit": null,
       "object_position": null,
       "order": null,
       "overflow": null,
       "padding": null,
       "right": null,
       "top": null,
       "visibility": null,
       "width": null
      }
     },
     "de3a436ae49b497a96bdc440c8e9effd": {
      "model_module": "@jupyter-widgets/controls",
      "model_module_version": "2.0.0",
      "model_name": "SliderStyleModel",
      "state": {
       "_model_module": "@jupyter-widgets/controls",
       "_model_module_version": "2.0.0",
       "_model_name": "SliderStyleModel",
       "_view_count": null,
       "_view_module": "@jupyter-widgets/base",
       "_view_module_version": "2.0.0",
       "_view_name": "StyleView",
       "description_width": "initial",
       "handle_color": null
      }
     },
     "e2710e4924cd45f2a3c9a55937979d98": {
      "model_module": "@jupyter-widgets/controls",
      "model_module_version": "2.0.0",
      "model_name": "SliderStyleModel",
      "state": {
       "_model_module": "@jupyter-widgets/controls",
       "_model_module_version": "2.0.0",
       "_model_name": "SliderStyleModel",
       "_view_count": null,
       "_view_module": "@jupyter-widgets/base",
       "_view_module_version": "2.0.0",
       "_view_name": "StyleView",
       "description_width": "initial",
       "handle_color": null
      }
     },
     "f1c4bb7d9d3146099b37b1fa0ac9bee6": {
      "model_module": "@jupyter-widgets/output",
      "model_module_version": "1.0.0",
      "model_name": "OutputModel",
      "state": {
       "_dom_classes": [],
       "_model_module": "@jupyter-widgets/output",
       "_model_module_version": "1.0.0",
       "_model_name": "OutputModel",
       "_view_count": null,
       "_view_module": "@jupyter-widgets/output",
       "_view_module_version": "1.0.0",
       "_view_name": "OutputView",
       "layout": "IPY_MODEL_04b6910bbc4a4b6a889aae800d8b972a",
       "msg_id": "",
       "outputs": [],
       "tabbable": null,
       "tooltip": null
      }
     }
    },
    "version_major": 2,
    "version_minor": 0
   }
  }
 },
 "nbformat": 4,
 "nbformat_minor": 5
}
